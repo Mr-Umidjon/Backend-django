{
 "cells": [
  {
   "cell_type": "code",
   "execution_count": 23,
   "metadata": {
    "collapsed": true
   },
   "outputs": [
    {
     "name": "stdout",
     "output_type": "stream",
     "text": [
      "1 | 2 | 3\n",
      "---------\n",
      "4 | 5 | 6\n",
      "---------\n",
      "7 | 8 | 9\n",
      "\n",
      "\n",
      "\n",
      "x | 2 | 3\n",
      "---------\n",
      "4 | 5 | 6\n",
      "---------\n",
      "7 | 8 | 9\n",
      "\n",
      "\n",
      "\n",
      "x | y | 3\n",
      "---------\n",
      "4 | 5 | 6\n",
      "---------\n",
      "7 | 8 | 9\n",
      "\n",
      "\n",
      "\n",
      "x | y | y\n",
      "---------\n",
      "4 | 5 | 6\n",
      "---------\n",
      "7 | 8 | 9\n",
      "\n",
      "\n",
      "\n",
      "x | y | x\n",
      "---------\n",
      "4 | 5 | 6\n",
      "---------\n",
      "7 | 8 | 9\n",
      "\n",
      "\n",
      "\n",
      "x | y | x\n",
      "---------\n",
      "y | 5 | 6\n",
      "---------\n",
      "7 | 8 | 9\n",
      "\n",
      "\n",
      "\n"
     ]
    }
   ],
   "source": [
    "t = [1, 2, 3, 4, 5, 6, 7, 8, 9]\n",
    "count = 0\n",
    "\n",
    "while count < 9:\n",
    "    while True:\n",
    "        if count == 9:\n",
    "            break\n",
    "\n",
    "        x = int(input(\"x = \")) - 1\n",
    "        if t[x] == 'x' or t[x] == 'o':\n",
    "            continue\n",
    "        t[x] = 'x'\n",
    "        count += 1\n",
    "        print(f\"{t[0]} | {t[1]} | {t[2]}\", f\"{t[3]} | {t[4]} | {t[5]}\", f\"{t[6]} | {t[7]} | {t[8]}\",\n",
    "              sep='\\n---------\\n')\n",
    "        print('\\n')\n",
    "        break\n",
    "\n",
    "    if t[0] == t[1] == t[2] == \"x\" or t[3] == t[4] == t[5] == \"x\" or t[6] == t[7] == t[8] == \"x\" or \\\n",
    "            t[0] == t[3] == t[6] == \"x\" or t[1] == t[4] == t[7] == \"x\" or t[2] == t[5] == t[8] == \"x\" or \\\n",
    "            t[0] == t[4] == t[8] == \"x\" or t[2] == t[4] == t[6] == \"x\":\n",
    "        print(\"x yutdi!!!\")\n",
    "        break\n",
    "\n",
    "    while True:\n",
    "        if count == 9:\n",
    "            break\n",
    "\n",
    "        y = int(input(\"o = \")) - 1\n",
    "        if t[y] == 'o' or t[y] == 'x':\n",
    "            continue\n",
    "        t[y] = 'o'\n",
    "        count += 1\n",
    "        print(f\"{t[0]} | {t[1]} | {t[2]}\", f\"{t[3]} | {t[4]} | {t[5]}\", f\"{t[6]} | {t[7]} | {t[8]}\",\n",
    "              sep='\\n---------\\n')\n",
    "        print('\\n')\n",
    "        break\n",
    "\n",
    "    if t[0] == t[1] == t[2] == \"o\" or t[3] == t[4] == t[5] == \"o\" or t[6] == t[7] == t[8] == \"o\" or \\\n",
    "            t[0] == t[3] == t[6] == \"o\" or t[1] == t[4] == t[7] == \"o\" or t[2] == t[5] == t[8] == \"o\" or \\\n",
    "            t[0] == t[4] == t[8] == \"o\" or t[2] == t[4] == t[6] == \"o\":\n",
    "        print(\"o yutdi!!!\")\n",
    "        break\n",
    "else:\n",
    "    print(\"Durrang!!!\")\n"
   ]
  },
  {
   "cell_type": "code",
   "execution_count": 3,
   "outputs": [
    {
     "name": "stdout",
     "output_type": "stream",
     "text": [
      "[[1, 2, 3], [4, 5, 6], [7, 8, 9]]\n"
     ]
    }
   ],
   "source": [],
   "metadata": {
    "collapsed": false,
    "pycharm": {
     "name": "#%%\n"
    }
   }
  },
  {
   "cell_type": "code",
   "execution_count": null,
   "outputs": [],
   "source": [],
   "metadata": {
    "collapsed": false,
    "pycharm": {
     "name": "#%%\n"
    }
   }
  }
 ],
 "metadata": {
  "kernelspec": {
   "display_name": "Python 3",
   "language": "python",
   "name": "python3"
  },
  "language_info": {
   "codemirror_mode": {
    "name": "ipython",
    "version": 2
   },
   "file_extension": ".py",
   "mimetype": "text/x-python",
   "name": "python",
   "nbconvert_exporter": "python",
   "pygments_lexer": "ipython2",
   "version": "2.7.6"
  }
 },
 "nbformat": 4,
 "nbformat_minor": 0
}