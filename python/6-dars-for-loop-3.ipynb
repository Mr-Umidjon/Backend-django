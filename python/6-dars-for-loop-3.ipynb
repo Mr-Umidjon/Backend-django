{
 "cells": [
  {
   "cell_type": "markdown",
   "id": "cd4088d5-09b9-4137-9f51-64175cd5f8b7",
   "metadata": {},
   "source": [
    "### 1. Uzunligi teng bo'lgan ikkita so'z kiritilgan. Misol uchun A = \"olma\" B = \"anor\". Sikl oraqlik yangi so'z tuzing. Natija: C = \"oalnmoar\", yani A 1-si va B 1-si C boshiga qoshildi C = \"oa.yani A 2-si va B 2-si C boshiga qoshildi C = \"oaln. ...."
   ]
  },
  {
   "cell_type": "code",
   "execution_count": 1,
   "id": "53b4ba8e-61eb-4bc3-a4ef-20fd036452ba",
   "metadata": {},
   "outputs": [
    {
     "name": "stdout",
     "output_type": "stream",
     "text": [
      "oalnmoar\n"
     ]
    }
   ],
   "source": [
    "a = 'olma'\n",
    "b = 'anor'\n",
    "\n",
    "c = ''\n",
    "\n",
    "for i in range(len(a)):\n",
    "    c += a[i] + b[i]\n",
    "    \n",
    "print(c)"
   ]
  },
  {
   "cell_type": "markdown",
   "id": "e249df5d-12e9-4765-86a8-d8a0cd8bb090",
   "metadata": {},
   "source": [
    "### 2. So'z berilgan \"d!v!l@p!r\" -> \"developer\" korinishiga o'tkazing."
   ]
  },
  {
   "cell_type": "code",
   "execution_count": 6,
   "id": "782bf169-2fac-469e-9395-29f57c2378a3",
   "metadata": {},
   "outputs": [
    {
     "data": {
      "text/plain": [
       "'developer'"
      ]
     },
     "execution_count": 6,
     "metadata": {},
     "output_type": "execute_result"
    }
   ],
   "source": [
    "soz = 'd!v!l@p!r'\n",
    "soz.replace('!', 'e').replace('@', 'o')"
   ]
  },
  {
   "cell_type": "markdown",
   "id": "9d213cf7-35e5-4dd6-a1ab-3d11368edb9f",
   "metadata": {},
   "source": [
    "### 3. So'z kiritilgan, keyin esa harif kiritilgan, so'zda shu harifdan netcha borligni aniqlang."
   ]
  },
  {
   "cell_type": "code",
   "execution_count": 9,
   "id": "517b9fc1-9a5e-4204-9468-3f0632d63609",
   "metadata": {},
   "outputs": [
    {
     "name": "stdin",
     "output_type": "stream",
     "text": [
      "So'z kiriting:  Maxammadsoliyev\n",
      "Harf kiriting:  m\n"
     ]
    },
    {
     "name": "stdout",
     "output_type": "stream",
     "text": [
      "maxammadsoliyev da m harfidan 3 ta bor\n"
     ]
    }
   ],
   "source": [
    "soz = input(\"So'z kiriting: \").lower()\n",
    "harf = input(\"Harf kiriting: \").lower()\n",
    "\n",
    "count = 0\n",
    "for i in soz:\n",
    "    if i == harf:\n",
    "        count += 1\n",
    "print(f\"{soz} da {harf} harfidan {count} ta bor\")"
   ]
  },
  {
   "cell_type": "markdown",
   "id": "38c92ae5-aeac-4f42-9274-9227d36b342f",
   "metadata": {},
   "source": [
    "### 4. Katta va kichik hariflar bilan so'z kiritilgan. Katta hariflarni aloxida so'z qilib print qiling. Misol uchun: \"TeLefOn\". Natija: \"TLO\""
   ]
  },
  {
   "cell_type": "code",
   "execution_count": 10,
   "id": "f2194714-10a5-4c11-ad66-95808bc01c1e",
   "metadata": {},
   "outputs": [
    {
     "name": "stdin",
     "output_type": "stream",
     "text": [
      "So'z kiriting:  TeeleFOn\n"
     ]
    },
    {
     "name": "stdout",
     "output_type": "stream",
     "text": [
      "TFO\n"
     ]
    }
   ],
   "source": [
    "soz = input(\"So'z kiriting: \")\n",
    "new = ''\n",
    "\n",
    "for i in soz:\n",
    "    if i.isupper():\n",
    "        new += i\n",
    "print(new)"
   ]
  },
  {
   "cell_type": "markdown",
   "id": "0015ee9e-15fc-4481-8362-5bbac1ee6cf9",
   "metadata": {},
   "source": [
    "### 5. Katta va kichik hariflar bilan so'z kiritilgan. Kichik hariflarni aloxida so'z qilib print qiling. Misol uchun:  \"TeLefOn\". Natija: \"eefn\""
   ]
  },
  {
   "cell_type": "code",
   "execution_count": 11,
   "id": "e807f3f9-60bb-40cd-9f46-efcce2844735",
   "metadata": {},
   "outputs": [
    {
     "name": "stdin",
     "output_type": "stream",
     "text": [
      "So'z kiriting:  TeLefOn\n"
     ]
    },
    {
     "name": "stdout",
     "output_type": "stream",
     "text": [
      "eefn\n"
     ]
    }
   ],
   "source": [
    "soz = input(\"So'z kiriting: \")\n",
    "new = ''\n",
    "\n",
    "for i in soz:\n",
    "    if i.islower():\n",
    "        new += i\n",
    "print(new)"
   ]
  },
  {
   "cell_type": "markdown",
   "id": "6a3a52e9-0ce0-48ec-aba4-d069a21c7809",
   "metadata": {},
   "source": [
    "### 6. Katta va kichik hariflar bilan so'z kiritilgan. 4 va 5 vazifani birlashtirgan holda. Katta harifli so'zlarni boshiga  kichik harifli so'zlarni oxiriga qoyib print qiling. Misol uchun: \"TeLefOn\". Natija: \"TLOeefn\""
   ]
  },
  {
   "cell_type": "code",
   "execution_count": 13,
   "id": "8d2f776d-bcd6-4056-b78e-c91afaedd1f0",
   "metadata": {},
   "outputs": [
    {
     "name": "stdin",
     "output_type": "stream",
     "text": [
      "So'z kiriting:  TeLefOn\n"
     ]
    },
    {
     "name": "stdout",
     "output_type": "stream",
     "text": [
      "TLOeefn\n"
     ]
    }
   ],
   "source": [
    "soz = input(\"So'z kiriting: \")\n",
    "up = ''\n",
    "low = ''\n",
    "\n",
    "for i in soz:\n",
    "    if i.islower():\n",
    "        low += i\n",
    "    else:\n",
    "        up += i\n",
    "        \n",
    "print(up+low)"
   ]
  },
  {
   "cell_type": "code",
   "execution_count": null,
   "id": "cc1c872a-32a4-49fd-b98d-8bc181b60944",
   "metadata": {},
   "outputs": [],
   "source": []
  }
 ],
 "metadata": {
  "kernelspec": {
   "display_name": "Python 3 (ipykernel)",
   "language": "python",
   "name": "python3"
  },
  "language_info": {
   "codemirror_mode": {
    "name": "ipython",
    "version": 3
   },
   "file_extension": ".py",
   "mimetype": "text/x-python",
   "name": "python",
   "nbconvert_exporter": "python",
   "pygments_lexer": "ipython3",
   "version": "3.9.7"
  }
 },
 "nbformat": 4,
 "nbformat_minor": 5
}
