{
 "cells": [
  {
   "cell_type": "markdown",
   "metadata": {
    "collapsed": true,
    "pycharm": {
     "name": "#%% md\n"
    }
   },
   "source": [
    "### Oson1. \"Oson1\" nomli klass elon qililar. Bu klassda \"a\" integer o'zgaruvchi bor.\n",
    "### output_a() - bu funksiya klassdagi \"a\" ni qiymatini print qilsin."
   ]
  },
  {
   "cell_type": "code",
   "execution_count": 2,
   "outputs": [
    {
     "name": "stdout",
     "output_type": "stream",
     "text": [
      "123\n"
     ]
    }
   ],
   "source": [
    "class Oson1:\n",
    "    def __init__(self, a):\n",
    "        self.a = a\n",
    "\n",
    "    def output_a(self):\n",
    "        print(self.a)\n",
    "\n",
    "\n",
    "oson = Oson1(123)\n",
    "oson.output_a()"
   ],
   "metadata": {
    "collapsed": false,
    "pycharm": {
     "name": "#%%\n"
    }
   }
  },
  {
   "cell_type": "markdown",
   "source": [
    "### Oson2. \"Oson2\" nomli klass elon qililar. Bu klassda \"a\" va \"b\" integer o'zgaruvchilari bor.\n",
    "### summa() - bu funksiya klassdagi \"a\" va \"b\" ni yig'indisini print qilsin."
   ],
   "metadata": {
    "collapsed": false,
    "pycharm": {
     "name": "#%% md\n"
    }
   }
  },
  {
   "cell_type": "code",
   "execution_count": 3,
   "outputs": [
    {
     "name": "stdout",
     "output_type": "stream",
     "text": [
      "25\n"
     ]
    }
   ],
   "source": [
    "class Oson2:\n",
    "    def __init__(self, a, b):\n",
    "        self.a = a\n",
    "        self.b = b\n",
    "\n",
    "    def summa(self):\n",
    "        print(self.a + self.b)\n",
    "\n",
    "\n",
    "oson2 = Oson2(12, 13)\n",
    "oson2.summa()"
   ],
   "metadata": {
    "collapsed": false,
    "pycharm": {
     "name": "#%%\n"
    }
   }
  },
  {
   "cell_type": "markdown",
   "source": [
    "# Oson3. \"Oson3\" nomli klass elon qililar. Bu klassda \"a\" integer o'zgaruvchisi bor.\n",
    "# plus_minus() - bu funksiya klassdagi \"a\" ni musbat yoki manfiy ekanligini print qilsin."
   ],
   "metadata": {
    "collapsed": false,
    "pycharm": {
     "name": "#%% md\n"
    }
   }
  },
  {
   "cell_type": "code",
   "execution_count": 7,
   "outputs": [
    {
     "name": "stdout",
     "output_type": "stream",
     "text": [
      "-12 soni manfiy\n"
     ]
    }
   ],
   "source": [
    "class Oson3:\n",
    "    def __init__(self, a):\n",
    "        self.a = a\n",
    "\n",
    "    def plus_minus(self):\n",
    "        print(f\"{self.a} soni {(self.a > 0) * 'musbat'}{(self.a < 0) * 'manfiy'}\")\n",
    "\n",
    "\n",
    "oson3 = Oson3(-12)\n",
    "oson3.plus_minus()"
   ],
   "metadata": {
    "collapsed": false,
    "pycharm": {
     "name": "#%%\n"
    }
   }
  },
  {
   "cell_type": "markdown",
   "source": [
    "### Oson4. \"Oson4\" nomli klass elon qililar. Bu klassda \"a\" integer o'zgaruvchi bor.\n",
    "### odd_even() - bu funksiya klassdagi \"a\" ni to'g yoki juft ekanligini print qilib bersin."
   ],
   "metadata": {
    "collapsed": false,
    "pycharm": {
     "name": "#%% md\n"
    }
   }
  },
  {
   "cell_type": "code",
   "execution_count": 10,
   "outputs": [
    {
     "name": "stdout",
     "output_type": "stream",
     "text": [
      "12 soni juft son\n"
     ]
    }
   ],
   "source": [
    "class Oson4:\n",
    "    def __init__(self, a):\n",
    "        self.a = a\n",
    "\n",
    "    def odd_even(self):\n",
    "        print(f\"{self.a} soni {(self.a % 2 == 1) * 'toq'}{(self.a % 2 == 0) * 'juft'} son\")\n",
    "\n",
    "oson4 = Oson4(12)\n",
    "oson4.odd_even()"
   ],
   "metadata": {
    "collapsed": false,
    "pycharm": {
     "name": "#%%\n"
    }
   }
  },
  {
   "cell_type": "code",
   "execution_count": null,
   "outputs": [],
   "source": [],
   "metadata": {
    "collapsed": false,
    "pycharm": {
     "name": "#%%\n"
    }
   }
  }
 ],
 "metadata": {
  "kernelspec": {
   "display_name": "Python 3",
   "language": "python",
   "name": "python3"
  },
  "language_info": {
   "codemirror_mode": {
    "name": "ipython",
    "version": 2
   },
   "file_extension": ".py",
   "mimetype": "text/x-python",
   "name": "python",
   "nbconvert_exporter": "python",
   "pygments_lexer": "ipython2",
   "version": "2.7.6"
  }
 },
 "nbformat": 4,
 "nbformat_minor": 0
}