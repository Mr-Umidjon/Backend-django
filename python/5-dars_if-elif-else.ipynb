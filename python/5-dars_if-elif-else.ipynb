{
 "cells": [
  {
   "cell_type": "markdown",
   "id": "b7865c9a-9b67-470e-ab12-c049857428d8",
   "metadata": {},
   "source": [
    "### 1. A soni berilgan. Uni musbat yoki manfiy ekanligini aniqlang."
   ]
  },
  {
   "cell_type": "code",
   "execution_count": 1,
   "id": "ae8e79a6-6e78-4f81-b327-e5fb42e103af",
   "metadata": {},
   "outputs": [
    {
     "name": "stdin",
     "output_type": "stream",
     "text": [
      "A =  12\n"
     ]
    },
    {
     "name": "stdout",
     "output_type": "stream",
     "text": [
      "12 soni Musbat son\n"
     ]
    }
   ],
   "source": [
    "a = int(input(\"A = \"))\n",
    "\n",
    "if a > 0:\n",
    "    ans = 'Musbat'\n",
    "elif a < 0:\n",
    "    ans = 'Manfiy'\n",
    "else:\n",
    "    ans = 'Nol'\n",
    "    \n",
    "print(\"{} soni {} son\".format(a, ans))"
   ]
  },
  {
   "cell_type": "markdown",
   "id": "07e7f47c-827e-469c-847b-055f3b4c95e3",
   "metadata": {},
   "source": [
    "### 2. A soni berilgan. Uni tog’ yoki juft ekanligni aniqlang."
   ]
  },
  {
   "cell_type": "code",
   "execution_count": 2,
   "id": "41687fea-bb8c-45fe-a648-2b32a3ac6f20",
   "metadata": {},
   "outputs": [
    {
     "name": "stdin",
     "output_type": "stream",
     "text": [
      "A =  23\n"
     ]
    },
    {
     "name": "stdout",
     "output_type": "stream",
     "text": [
      "23 soni Toq son\n"
     ]
    }
   ],
   "source": [
    "a = int(input(\"A = \"))\n",
    "\n",
    "if a % 2 == 0:\n",
    "    ans = 'Juft'\n",
    "else:\n",
    "    ans = 'Toq'\n",
    "    \n",
    "print(\"{} soni {} son\".format(a, ans))"
   ]
  },
  {
   "cell_type": "markdown",
   "id": "ab8650d3-3810-43fc-9ca9-edd222e1f6a3",
   "metadata": {},
   "source": [
    "### 3. A soni berilgan (1-7). Bu son haftaning qaysi kuni ekanligini aniqlang."
   ]
  },
  {
   "cell_type": "code",
   "execution_count": 3,
   "id": "71b70f02-dd07-4d0d-a6f8-8700a12b8055",
   "metadata": {},
   "outputs": [
    {
     "name": "stdin",
     "output_type": "stream",
     "text": [
      "A =  4\n"
     ]
    },
    {
     "name": "stdout",
     "output_type": "stream",
     "text": [
      "Payshanba kuni\n"
     ]
    }
   ],
   "source": [
    "a = int(input(\"A = \"))\n",
    "\n",
    "if a == 1:\n",
    "    ans = \"Dushanba\"\n",
    "elif a == 2:\n",
    "    ans = \"Seshanba\"\n",
    "elif a == 3:\n",
    "    ans = \"Chorshanba\"\n",
    "elif a == 4:\n",
    "    ans = \"Payshanba\"\n",
    "elif a == 5:\n",
    "    ans = \"Juma\"\n",
    "elif a == 6:\n",
    "    ans = \"Shanba\"\n",
    "elif a == 7:\n",
    "    ans = \"Yakshanba\"\n",
    "    \n",
    "print(\"{} kuni\".format(ans))"
   ]
  },
  {
   "cell_type": "markdown",
   "id": "872b97ce-891c-4317-a306-446f00d1942a",
   "metadata": {},
   "source": [
    "### 4. A soni berilgan. A musbat bolsa unga 2 qoshilsin, agar u manfiy bo’lsa unda 2 ayrilsin."
   ]
  },
  {
   "cell_type": "code",
   "execution_count": 5,
   "id": "457262f0-2007-44c9-89d1-2b60d35ae5a2",
   "metadata": {},
   "outputs": [
    {
     "name": "stdin",
     "output_type": "stream",
     "text": [
      "A =  23\n"
     ]
    },
    {
     "name": "stdout",
     "output_type": "stream",
     "text": [
      "A sonining yangi qiymati 25 ga teng\n"
     ]
    }
   ],
   "source": [
    "a = int(input(\"A = \"))\n",
    "\n",
    "if a > 0:\n",
    "    a += 2\n",
    "elif a < 0:\n",
    "    a -= 2\n",
    "    \n",
    "print(\"A sonining yangi qiymati {} ga teng\".format(a))"
   ]
  },
  {
   "cell_type": "markdown",
   "id": "01c16f0a-7c3e-4582-bf6c-27fffae3e99f",
   "metadata": {},
   "source": [
    "### 5. A va B sonlari berilgan. Bu A > 3 va B <= 6 shartimizga to’g’ri keladimi yoki yoqmi aniqlang."
   ]
  },
  {
   "cell_type": "code",
   "execution_count": 8,
   "id": "ef01cf4d-79c8-44b6-bf59-5cdceec390cf",
   "metadata": {},
   "outputs": [
    {
     "name": "stdin",
     "output_type": "stream",
     "text": [
      "A =  4\n",
      "B =  6\n"
     ]
    },
    {
     "name": "stdout",
     "output_type": "stream",
     "text": [
      "A va B ning qiyamatlari: A > 3 va B <= 6 shartni qanoatlantiradi\n"
     ]
    }
   ],
   "source": [
    "a = int(input(\"A = \"))\n",
    "b = int(input(\"B = \"))\n",
    "\n",
    "if  a > 3 and b <= 6:\n",
    "    print(\"A va B ning qiyamatlari: A > 3 va B <= 6 shartni qanoatlantiradi\") \n",
    "else:\n",
    "    print(\"A va B ning qiyamatlari: A > 3 va B <= 6 shartni qanoatlantirmaydi\") "
   ]
  },
  {
   "cell_type": "markdown",
   "id": "2269d6d5-be45-4576-b3fc-ed1ea839ce5e",
   "metadata": {},
   "source": [
    "### 6. A va B sonlari berilgan. Bu A < 2 va B >= -2 shartimizga to’g’ri keladimi yoki yoqmi aniqlang."
   ]
  },
  {
   "cell_type": "code",
   "execution_count": 10,
   "id": "80201146-6e83-4f62-b02b-7512acb14f45",
   "metadata": {},
   "outputs": [
    {
     "name": "stdin",
     "output_type": "stream",
     "text": [
      "A =  1\n",
      "B =  8\n"
     ]
    },
    {
     "name": "stdout",
     "output_type": "stream",
     "text": [
      "A va B ning qiyamatlari: A < 2 va B >= -2 shartni qanoatlantiradi\n"
     ]
    }
   ],
   "source": [
    "a = int(input(\"A = \"))\n",
    "b = int(input(\"B = \"))\n",
    "\n",
    "if  a < 2 and b >= -2:\n",
    "    print(\"A va B ning qiyamatlari: A < 2 va B >= -2 shartni qanoatlantiradi\") \n",
    "else:\n",
    "    print(\"A va B ning qiyamatlari: A < 2 va B >= -2 shartni qanoatlantirmaydi\") "
   ]
  },
  {
   "cell_type": "markdown",
   "id": "c5ad8e0a-433d-433f-a9c4-2dc40c6a029a",
   "metadata": {},
   "source": [
    "### 7. A va B sonlari berilgan. Ulardan birinchi katta keyin kichikgini print qiling."
   ]
  },
  {
   "cell_type": "code",
   "execution_count": 12,
   "id": "4afe1f0e-9389-4a49-84c4-e768c88c7ffe",
   "metadata": {},
   "outputs": [
    {
     "name": "stdin",
     "output_type": "stream",
     "text": [
      "A =  12\n",
      "B =  45\n"
     ]
    },
    {
     "name": "stdout",
     "output_type": "stream",
     "text": [
      "45\n",
      "12\n"
     ]
    }
   ],
   "source": [
    "a = int(input(\"A = \"))\n",
    "b = int(input(\"B = \"))\n",
    "\n",
    "# if a > b:\n",
    "#     ans = f\"{a}\\n{b}\"\n",
    "# else:\n",
    "#     ans = f\"{b}\\n{a}\"\n",
    "    \n",
    "# print(ans)\n",
    "\n",
    "if a > b:\n",
    "    a, b = b, a\n",
    "    \n",
    "print(f\"{b}\\n{a}\")"
   ]
  },
  {
   "cell_type": "markdown",
   "id": "fd9b53dc-f48d-4acc-a9d2-39a1715a9e31",
   "metadata": {},
   "source": [
    "### 8. A va B sonlari berilgan (float tipida). Ularning qaysi birida qo’ldiq qismi kichik bo’lsa shu sonni aniqlang."
   ]
  },
  {
   "cell_type": "code",
   "execution_count": 14,
   "id": "96c5dc20-c288-4cbd-a0ba-d7951183c471",
   "metadata": {},
   "outputs": [
    {
     "name": "stdin",
     "output_type": "stream",
     "text": [
      "A =  45.4\n",
      "B =  56.5\n"
     ]
    },
    {
     "name": "stdout",
     "output_type": "stream",
     "text": [
      "56.5 ning qoldiq qismi 0.5 ga teng\n"
     ]
    }
   ],
   "source": [
    "a = float(input(\"A = \"))\n",
    "b = float(input(\"B = \"))\n",
    "\n",
    "\n",
    "float_a = a % 1\n",
    "float_b = b % 1\n",
    "\n",
    "if float_a > float_b:\n",
    "    ans = f\"{a} ning qoldiq qismi {float_a} ga teng\"\n",
    "elif float_a < float_b:\n",
    "    ans = f\"{b} ning qoldiq qismi {float_b} ga teng\"\n",
    "else:\n",
    "    ans = \"Ikkalasining qoldiq qismi teng\"\n",
    "    \n",
    "print(ans)"
   ]
  },
  {
   "cell_type": "markdown",
   "id": "26d36e98-1672-4524-ba25-1071aa973dfa",
   "metadata": {},
   "source": [
    "### 9. A, B va C sonlari berilgan. A < B < C shartimizga to’g’ri keladimi yoki yoqmi aniqlang."
   ]
  },
  {
   "cell_type": "code",
   "execution_count": 16,
   "id": "14f2e016-8836-425c-bc0c-09667ff0d9ea",
   "metadata": {},
   "outputs": [
    {
     "name": "stdin",
     "output_type": "stream",
     "text": [
      "A =  12\n",
      "B =  34\n",
      "C =  56\n"
     ]
    },
    {
     "name": "stdout",
     "output_type": "stream",
     "text": [
      "A, B, C sonlar A < B < C shartini qanoatlantiradi\n"
     ]
    }
   ],
   "source": [
    "a = float(input(\"A = \"))\n",
    "b = float(input(\"B = \"))\n",
    "c = float(input(\"C = \"))\n",
    "\n",
    "if a < b and b < c:\n",
    "    ans = \"A, B, C sonlar A < B < C shartini qanoatlantiradi\"\n",
    "else:\n",
    "    ans = \"A, B, C sonlar A < B < C shartini qanoatlantirmaydi\"\n",
    "    \n",
    "print(ans)"
   ]
  },
  {
   "cell_type": "markdown",
   "id": "cb8a8935-2146-4e6d-ac97-3a585b0208b5",
   "metadata": {},
   "source": [
    "### 10. A, B va C sonlari berilgan. B soni, A va C ni o’rtasidami yoki yoq aniqlang."
   ]
  },
  {
   "cell_type": "code",
   "execution_count": 20,
   "id": "96b8ed5a-93ce-47cc-868b-642e3a863faf",
   "metadata": {},
   "outputs": [
    {
     "name": "stdin",
     "output_type": "stream",
     "text": [
      "A =  12\n",
      "B =  34\n",
      "C =  56\n"
     ]
    },
    {
     "name": "stdout",
     "output_type": "stream",
     "text": [
      "B soni A va C ning o'rtasida joylashgan\n"
     ]
    }
   ],
   "source": [
    "a = float(input(\"A = \"))\n",
    "b = float(input(\"B = \"))\n",
    "c = float(input(\"C = \"))\n",
    "\n",
    "if a < b and b < c:\n",
    "    answer = 'B soni A va C ning o\\'rtasida joylashgan'\n",
    "else:\n",
    "    answer = 'B soni A va C ning o\\'rtasida joylashmagan'\n",
    "    \n",
    "print(answer)"
   ]
  },
  {
   "cell_type": "markdown",
   "id": "02a4ed1d-d76f-4419-b0c6-39f30bf07563",
   "metadata": {},
   "source": [
    "### 11. A, B va C sonlari berilgan. Ulardan nechtasi musbat ekanligni aniqlang."
   ]
  },
  {
   "cell_type": "code",
   "execution_count": 25,
   "id": "2252a13a-aee0-46d3-96a0-a88a9b681ea0",
   "metadata": {},
   "outputs": [
    {
     "name": "stdin",
     "output_type": "stream",
     "text": [
      "A =  1\n",
      "B =  -9\n",
      "C =  0\n"
     ]
    },
    {
     "name": "stdout",
     "output_type": "stream",
     "text": [
      "1.0, -9.0, 0.0 sonlardan 1 tasi musbat\n"
     ]
    }
   ],
   "source": [
    "a = float(input(\"A = \"))\n",
    "b = float(input(\"B = \"))\n",
    "c = float(input(\"C = \"))\n",
    "\n",
    "count = 0\n",
    "if a > 0:\n",
    "    count += 1\n",
    "    \n",
    "if b > 0:\n",
    "    count += 1\n",
    "    \n",
    "if c > 0:\n",
    "    count += 1\n",
    "    \n",
    "ans = \"{0}, {1}, {2} sonlardan {3} tasi musbat\".format(a, b, c, count)\n",
    "print(ans)"
   ]
  },
  {
   "cell_type": "markdown",
   "id": "8de15c6d-2b50-47eb-8ada-e3c0d0a04df3",
   "metadata": {},
   "source": [
    "### 12. A, B va C sonlari berilgan. Ulardan ikki eng katta sonlarni yig’indisini aniqlang."
   ]
  },
  {
   "cell_type": "code",
   "execution_count": 26,
   "id": "286eae2d-3542-47c6-a30d-7afa538b162d",
   "metadata": {},
   "outputs": [
    {
     "name": "stdin",
     "output_type": "stream",
     "text": [
      "A =  12\n",
      "B =  34\n",
      "C =  5\n"
     ]
    },
    {
     "name": "stdout",
     "output_type": "stream",
     "text": [
      "46.0\n"
     ]
    }
   ],
   "source": [
    "a = float(input(\"A = \"))\n",
    "b = float(input(\"B = \"))\n",
    "c = float(input(\"C = \"))\n",
    "\n",
    "sum = a + b + c\n",
    "min = a\n",
    "\n",
    "if min > b:\n",
    "    min = b\n",
    "    \n",
    "if min > c:\n",
    "    min = c\n",
    "    \n",
    "sum -= min\n",
    "\n",
    "print(sum)"
   ]
  },
  {
   "cell_type": "markdown",
   "id": "6f064b83-0cc2-4796-9e7d-972fa4856a01",
   "metadata": {},
   "source": [
    "### 13. A soni berilgan. A ni toq son ekanligni aniqlang"
   ]
  },
  {
   "cell_type": "code",
   "execution_count": 30,
   "id": "c25a9a47-fa10-4884-a504-d258295671d9",
   "metadata": {},
   "outputs": [
    {
     "name": "stdin",
     "output_type": "stream",
     "text": [
      "A =  23\n"
     ]
    },
    {
     "name": "stdout",
     "output_type": "stream",
     "text": [
      "23 soni toq son\n"
     ]
    }
   ],
   "source": [
    "a = int(input(\"A = \"))\n",
    "\n",
    "if a % 2 == 1:\n",
    "    ans = \"{} soni toq son\".format(a)\n",
    "else:\n",
    "    ans = \"{} soni toq son emas\".format(a)\n",
    "    \n",
    "print(ans)"
   ]
  },
  {
   "cell_type": "markdown",
   "id": "6289d7bf-f5c6-4616-9c1f-ce9b2a3aafce",
   "metadata": {},
   "source": [
    "### 14. A va B sonlari berilgan. A va B ni , yani ikkalasi ham toq sonlar ekanligini aniqlang"
   ]
  },
  {
   "cell_type": "code",
   "execution_count": 32,
   "id": "f478d91c-cf52-457a-b5e1-3221b886ab45",
   "metadata": {},
   "outputs": [
    {
     "name": "stdin",
     "output_type": "stream",
     "text": [
      "A =  13\n",
      "B =  35\n"
     ]
    },
    {
     "name": "stdout",
     "output_type": "stream",
     "text": [
      "Ikkalasi ham toq sonlar\n"
     ]
    }
   ],
   "source": [
    "a = int(input(\"A = \"))\n",
    "b = int(input(\"B = \"))\n",
    "\n",
    "ans = \"Ikkalasi ham toq sonlar\"\n",
    "\n",
    "if a % 2 != 1:\n",
    "    ans = \"Ikkalasi ham toq son emas\"\n",
    "    \n",
    "if b % 2 != 1:\n",
    "    ans = \"Ikkalasi ham toq son emas\"\n",
    "    \n",
    "print(ans)"
   ]
  },
  {
   "cell_type": "markdown",
   "id": "9ab329b9-ea66-4786-8745-50d697dec9da",
   "metadata": {},
   "source": [
    "### 15. A va B sonlari berilgan. A yoki B ni toq son ekanligini aniqlang."
   ]
  },
  {
   "cell_type": "code",
   "execution_count": 38,
   "id": "d0824de3-a218-4d7a-bced-82af4f48aae6",
   "metadata": {},
   "outputs": [
    {
     "name": "stdin",
     "output_type": "stream",
     "text": [
      "A =  13\n",
      "B =  15\n"
     ]
    }
   ],
   "source": [
    "a = int(input(\"A = \"))\n",
    "b = int(input(\"B = \"))\n",
    "\n",
    "count = 0\n",
    "\n",
    "count += a % 2\n",
    "count += b % 2\n",
    "\n",
    "if count == 1:\n",
    "    print(\"Ikkalasidan biri toq son\")"
   ]
  },
  {
   "cell_type": "markdown",
   "id": "87e20535-b1c1-4a8f-924b-46af0ce15676",
   "metadata": {},
   "source": [
    "### 16. A, B va C sonlari berilgan. A, B va C sonlarini musbatmi shuni aniqlang."
   ]
  },
  {
   "cell_type": "code",
   "execution_count": 39,
   "id": "fad732d3-a1a4-4153-85a3-21b495df12e4",
   "metadata": {},
   "outputs": [
    {
     "name": "stdin",
     "output_type": "stream",
     "text": [
      "A =  12\n",
      "B =  0\n",
      "C =  3\n"
     ]
    },
    {
     "name": "stdout",
     "output_type": "stream",
     "text": [
      "A soni musbat\n",
      "C soni musbat\n"
     ]
    }
   ],
   "source": [
    "a = float(input(\"A = \"))\n",
    "b = float(input(\"B = \"))\n",
    "c = float(input(\"C = \"))\n",
    "\n",
    "if a > 0:\n",
    "    print(\"A soni musbat\")\n",
    "\n",
    "if b > 0:\n",
    "    print(\"B soni musbat\")\n",
    "\n",
    "if c > 0:\n",
    "    print(\"C soni musbat\")"
   ]
  },
  {
   "cell_type": "markdown",
   "id": "c22536e8-232a-484f-be45-12a891b5f35d",
   "metadata": {},
   "source": [
    "### 17. A soni berilgan. Uni juft va 2 xonalik son ekanligni aniqlang."
   ]
  },
  {
   "cell_type": "code",
   "execution_count": 47,
   "id": "b6832146-b0d5-4e18-b0a3-c0ef223beb7c",
   "metadata": {},
   "outputs": [
    {
     "name": "stdin",
     "output_type": "stream",
     "text": [
      "A =  87\n"
     ]
    }
   ],
   "source": [
    "a = int(input(\"A = \"))\n",
    "\n",
    "if a % 2 == 0 and 9 < a and 100 > a:\n",
    "    ans = \"{} soni juft va ikki xonali\".format(a)\n",
    "    print(ans)"
   ]
  },
  {
   "cell_type": "markdown",
   "id": "295cdb8b-d763-4275-9f2e-2955ffbd07c7",
   "metadata": {},
   "source": [
    "### 18. A soni berilgan. Uni toq va 3 xonlik son ekanligini aniqlang."
   ]
  },
  {
   "cell_type": "code",
   "execution_count": 48,
   "id": "3598d17a-98e9-4fe7-9a6d-c8a95dd5c890",
   "metadata": {},
   "outputs": [
    {
     "name": "stdin",
     "output_type": "stream",
     "text": [
      "A =  123\n"
     ]
    },
    {
     "name": "stdout",
     "output_type": "stream",
     "text": [
      "123 soni toq va uch xonali\n"
     ]
    }
   ],
   "source": [
    "a = int(input(\"A = \"))\n",
    "\n",
    "if a % 2 == 1 and 99 < a and 1000 > a:\n",
    "    ans = \"{} soni toq va uch xonali\".format(a)\n",
    "    print(ans)"
   ]
  },
  {
   "cell_type": "markdown",
   "id": "4ba4afaa-8651-4315-a598-21153fefaa36",
   "metadata": {},
   "source": [
    "### 19. Uch xonalik son berilgan. Uning raqamlari bir xil emasligni aniglang."
   ]
  },
  {
   "cell_type": "code",
   "execution_count": 53,
   "id": "b02247a6-4052-4fba-97a3-97996c125014",
   "metadata": {},
   "outputs": [
    {
     "name": "stdin",
     "output_type": "stream",
     "text": [
      "Uch xonali son kiriting:  123\n"
     ]
    },
    {
     "name": "stdout",
     "output_type": "stream",
     "text": [
      "123 sonini raqamlari bir xil emas\n"
     ]
    }
   ],
   "source": [
    "son = int(input(\"Uch xonali son kiriting: \"))\n",
    "son1 = son\n",
    "x1 = son % 10\n",
    "son //= 10\n",
    "\n",
    "x2 = son % 10\n",
    "son //= 10\n",
    "\n",
    "x3 = son % 10\n",
    "son //= 10\n",
    "\n",
    "if x1 != x2 or x2 != x3:\n",
    "    print(f'{son1} sonini raqamlari bir xil emas')"
   ]
  },
  {
   "cell_type": "markdown",
   "id": "a2431ab5-8700-4a76-8c06-5598b343565f",
   "metadata": {},
   "source": [
    "### 20. 1-999 ga son berilgan. Uni musbat yoki manfiyligni va nechi xonaligini aniqlang."
   ]
  },
  {
   "cell_type": "code",
   "execution_count": 58,
   "id": "275f178f-3748-4d91-95fb-810d946e695f",
   "metadata": {},
   "outputs": [
    {
     "name": "stdin",
     "output_type": "stream",
     "text": [
      "Son kiriting:  -1\n"
     ]
    },
    {
     "name": "stdout",
     "output_type": "stream",
     "text": [
      "manfiy va 1 xonali\n"
     ]
    }
   ],
   "source": [
    "son = int(input(\"Son kiriting: \"))\n",
    "\n",
    "ans = ''\n",
    "\n",
    "if son > 0:\n",
    "    ans += 'musbat'\n",
    "else:\n",
    "    ans += 'manfiy'\n",
    "\n",
    "son = abs(son)\n",
    "if son <= 9:\n",
    "    ans += ' va 1 xonali'\n",
    "elif son <= 99:\n",
    "    ans += ' va 2 xonali'\n",
    "else:\n",
    "    ans += ' va 3 xonali'\n",
    "\n",
    "print(ans)"
   ]
  },
  {
   "cell_type": "markdown",
   "id": "02f3e5d4-7ca8-4300-a949-5c3f5330ea4e",
   "metadata": {},
   "source": [
    "### 21. Uch xonalik son berilgan. Uning raqamlari o’sish yoki kamayish tartibidami aniqlang."
   ]
  },
  {
   "cell_type": "code",
   "execution_count": 4,
   "id": "56d902ea-316e-469d-8d65-a487e79b0df8",
   "metadata": {},
   "outputs": [
    {
     "name": "stdin",
     "output_type": "stream",
     "text": [
      "Uch xonali son kiriting:  741\n"
     ]
    },
    {
     "name": "stdout",
     "output_type": "stream",
     "text": [
      "Soninig raqamlari kamayish tartibida\n"
     ]
    }
   ],
   "source": [
    "son = int(input(\"Uch xonali son kiriting: \"))\n",
    "\n",
    "x3 = son % 10\n",
    "son //= 10\n",
    "\n",
    "x2 = son % 10\n",
    "son //= 10\n",
    "\n",
    "x1 = son % 10\n",
    "son //= 10\n",
    "\n",
    "if x1 < x2 and x2 < x3:\n",
    "    print('Soninig raqamlari o\\'sish tartibida')\n",
    "elif x1 > x2 and x2 > x3:\n",
    "    print('Soninig raqamlari kamayish tartibida')\n",
    "else:\n",
    "    print('Soninig raqamlari tartibsiz tartibida')"
   ]
  },
  {
   "cell_type": "markdown",
   "id": "9838fce9-06c1-4e0e-8d33-7cce38b7897f",
   "metadata": {},
   "source": [
    "### 22. To’rt xonalik son berilgan. Uning raqamlari chapga ham o’ngga ham bi xil o’qilishini aniqlang."
   ]
  },
  {
   "cell_type": "code",
   "execution_count": 9,
   "id": "3c191d41-c68c-47e9-81be-17a39b552c7d",
   "metadata": {},
   "outputs": [
    {
     "name": "stdin",
     "output_type": "stream",
     "text": [
      "To'rt xonali son kiriting:  2332\n"
     ]
    },
    {
     "name": "stdout",
     "output_type": "stream",
     "text": [
      "Berilgan son oldi va orqa tarafdan o'qiganda bir xil\n"
     ]
    }
   ],
   "source": [
    "son = int(input(\"To'rt xonali son kiriting: \"))\n",
    "\n",
    "x4 = son % 10\n",
    "son //= 10\n",
    "\n",
    "x3 = son % 10\n",
    "son //= 10\n",
    "\n",
    "x2 = son % 10\n",
    "son //= 10\n",
    "\n",
    "x1 = son % 10\n",
    "son //= 10\n",
    "\n",
    "\n",
    "if x1 == x4 and x2 == x3:\n",
    "    print(\"Berilgan son oldi va orqa tarafdan o'qiganda bir xil\")\n",
    "else:\n",
    "    print('Berilgan soninig raqamlari xar xil')"
   ]
  },
  {
   "cell_type": "markdown",
   "id": "57a358d2-9d00-4eb9-94e4-83568f032e11",
   "metadata": {},
   "source": [
    "### 23. X va Y sonlari berilgan. Bu sonlar koordinata o’qining qaysi chorakgida ekanligni aniqlang."
   ]
  },
  {
   "cell_type": "code",
   "execution_count": 14,
   "id": "b50c2fe1-751a-4ae2-a9d8-12cd043685d8",
   "metadata": {},
   "outputs": [
    {
     "name": "stdin",
     "output_type": "stream",
     "text": [
      "x =  0\n",
      "y =  9\n"
     ]
    },
    {
     "name": "stdout",
     "output_type": "stream",
     "text": [
      "hech qaysi choragida\n"
     ]
    }
   ],
   "source": [
    "x = float(input(\"x = \"))\n",
    "y = float(input(\"y = \"))\n",
    "\n",
    "if x > 0 and y > 0:\n",
    "    ans = \"I\"\n",
    "elif x < 0 and y > 0:\n",
    "    ans = \"II\"\n",
    "elif x < 0 and y < 0:\n",
    "    ans = \"III\"\n",
    "elif x > 0 and y < 0:\n",
    "    ans = \"IV\"\n",
    "else:\n",
    "    ans = 'hech qaysi'\n",
    "print(f\"{ans} choragida\")"
   ]
  },
  {
   "cell_type": "markdown",
   "id": "292f46e0-b6de-4657-a340-13bbe1d7d606",
   "metadata": {},
   "source": [
    "### 24. X va Y sonlari berilgan. Ular shaxmat doskasi koordinatalari (X va Y , 1-8 oraliqda). (1, 1) koordinatani qora katak deb olsak, X va Y qaysi rangdegi katakda joylashgan."
   ]
  },
  {
   "cell_type": "code",
   "execution_count": 18,
   "id": "2a17c823-fcbf-4efb-a43e-aacd40ff6e6c",
   "metadata": {},
   "outputs": [
    {
     "name": "stdin",
     "output_type": "stream",
     "text": [
      "x =  1\n",
      "y =  4\n"
     ]
    },
    {
     "name": "stdout",
     "output_type": "stream",
     "text": [
      "(1, 4) koodinatadagi dona oq katakda\n"
     ]
    }
   ],
   "source": [
    "x = int(input(\"x = \"))\n",
    "y = int(input(\"y = \"))\n",
    "\n",
    "if (x + y) % 2 == 0:\n",
    "    ans = 'qora'\n",
    "else:\n",
    "    ans = 'oq'\n",
    "    \n",
    "print(f\"({x}, {y}) koodinatadagi dona {ans} katakda\")"
   ]
  },
  {
   "cell_type": "markdown",
   "id": "fbbc5de5-67b1-4ec8-927b-26fc7c762b7b",
   "metadata": {},
   "source": [
    "### 25. X1 va Y1, X2 va Y2 sonlari berilgan. Ular 1-8 oraliqda. X1,Y1 va X2,Y2 lar bir xil rangdagi katakdami shuni aniqlang."
   ]
  },
  {
   "cell_type": "code",
   "execution_count": 21,
   "id": "3d837857-ef1f-45fa-8626-0d64c031506e",
   "metadata": {},
   "outputs": [
    {
     "name": "stdin",
     "output_type": "stream",
     "text": [
      "x1 =  1\n",
      "y1 =  2\n",
      "x2 =  2\n",
      "y2 =  1\n"
     ]
    },
    {
     "name": "stdout",
     "output_type": "stream",
     "text": [
      "Ikkala katak bir xil rangda\n"
     ]
    }
   ],
   "source": [
    "x1 = int(input(\"x1 = \"))\n",
    "y1 = int(input(\"y1 = \"))\n",
    "\n",
    "x2 = int(input(\"x2 = \"))\n",
    "y2 = int(input(\"y2 = \"))\n",
    "\n",
    "if (x1 + y1) % 2 == (x2 + y2) % 2:\n",
    "    ans = \"Ikkala katak bir xil rangda\"\n",
    "else:\n",
    "    ans = \"Ikkala katak xar xil rangda\"\n",
    "    \n",
    "print(ans)"
   ]
  },
  {
   "cell_type": "markdown",
   "id": "15b8f662-43d8-4954-b191-8750e2b3df3b",
   "metadata": {},
   "source": [
    "### 26. Shoxni yurishini aniqlang."
   ]
  },
  {
   "cell_type": "code",
   "execution_count": 10,
   "id": "f699a283-cd14-411a-b423-ec881816bab8",
   "metadata": {},
   "outputs": [
    {
     "name": "stdin",
     "output_type": "stream",
     "text": [
      "x1 =  1\n",
      "y1 =  2\n",
      "x2 =  2\n",
      "y2 =  3\n"
     ]
    },
    {
     "name": "stdout",
     "output_type": "stream",
     "text": [
      "Shox yura oladi\n"
     ]
    }
   ],
   "source": [
    "x1 = int(input(\"x1 = \"))\n",
    "y1 = int(input(\"y1 = \"))\n",
    "\n",
    "x2 = int(input(\"x2 = \"))\n",
    "y2 = int(input(\"y2 = \"))\n",
    "\n",
    "if abs(x2-x1) == 1 or abs(y2-y1) == 1:\n",
    "    print(\"Shox yura oladi\")\n",
    "else:\n",
    "    print(\"Shox yura olmaydi\")"
   ]
  },
  {
   "cell_type": "markdown",
   "id": "1b33adfc-2f42-446c-a43d-c439e9f2019f",
   "metadata": {},
   "source": [
    "### 27. Filni yurishini aniqlang."
   ]
  },
  {
   "cell_type": "code",
   "execution_count": 9,
   "id": "7bed5bbe-f437-4072-8bcf-15fa8a9cee91",
   "metadata": {},
   "outputs": [
    {
     "name": "stdin",
     "output_type": "stream",
     "text": [
      "x1 =  2\n",
      "y1 =  3\n",
      "x2 =  4\n",
      "y2 =  5\n"
     ]
    },
    {
     "name": "stdout",
     "output_type": "stream",
     "text": [
      "Fil yura oladi\n"
     ]
    }
   ],
   "source": [
    "x1 = int(input(\"x1 = \"))\n",
    "y1 = int(input(\"y1 = \"))\n",
    "\n",
    "x2 = int(input(\"x2 = \"))\n",
    "y2 = int(input(\"y2 = \"))\n",
    "\n",
    "if abs(x2-x1) == abs(y2-y1):\n",
    "    print(\"Fil yura oladi\")\n",
    "else:\n",
    "    print(\"Fil yura olmaydi\")"
   ]
  },
  {
   "cell_type": "markdown",
   "id": "ebf95e77-2932-456e-ac1d-aaa76084600d",
   "metadata": {},
   "source": [
    "### 28. Farzinni yurishini aniqlang."
   ]
  },
  {
   "cell_type": "code",
   "execution_count": null,
   "id": "999f3861-90f1-43c1-a9fa-ad0923a7f3f5",
   "metadata": {},
   "outputs": [
    {
     "name": "stdin",
     "output_type": "stream",
     "text": [
      "x1 =  1\n",
      "y1 =  2\n",
      "x2 =  4\n",
      "y2 =  5\n"
     ]
    },
    {
     "name": "stdout",
     "output_type": "stream",
     "text": [
      "Farzin yura oladi\n"
     ]
    }
   ],
   "source": [
    "x1 = int(input(\"x1 = \"))\n",
    "y1 = int(input(\"y1 = \"))\n",
    "\n",
    "x2 = int(input(\"x2 = \"))\n",
    "y2 = int(input(\"y2 = \"))\n",
    "\n",
    "if abs(x2-x1) == abs(y2-y1) or x1-x2 == 0 and y1 - y2 != 0 or x1-x2 != 0 and y1 - y2 == 0:\n",
    "    print(\"Farzin yura oladi\")\n",
    "else:\n",
    "    print(\"Farzin yura olmaydi\")"
   ]
  },
  {
   "cell_type": "code",
   "execution_count": null,
   "id": "27ab31aa-ecfb-4fe4-831d-a7e04d0fe6e8",
   "metadata": {},
   "outputs": [],
   "source": []
  }
 ],
 "metadata": {
  "kernelspec": {
   "display_name": "Python 3 (ipykernel)",
   "language": "python",
   "name": "python3"
  },
  "language_info": {
   "codemirror_mode": {
    "name": "ipython",
    "version": 3
   },
   "file_extension": ".py",
   "mimetype": "text/x-python",
   "name": "python",
   "nbconvert_exporter": "python",
   "pygments_lexer": "ipython3",
   "version": "3.9.7"
  }
 },
 "nbformat": 4,
 "nbformat_minor": 5
}
