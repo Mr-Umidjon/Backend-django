{
 "cells": [
  {
   "cell_type": "markdown",
   "source": [
    "### LIST COMPEHENSION\n",
    "### 1-misol"
   ],
   "metadata": {
    "collapsed": false,
    "pycharm": {
     "name": "#%% md\n"
    }
   }
  },
  {
   "cell_type": "code",
   "execution_count": 1,
   "outputs": [
    {
     "name": "stdout",
     "output_type": "stream",
     "text": [
      "['Toshkent', \"Farg'ona\", 'Jizzax', 'Andijon', 'Samarqand', 'Buxoro']\n"
     ]
    }
   ],
   "source": [
    "regions = [[\"Toshkent\", \"Buxoro\"], [\"Farg'ona\", \"Jizzax\"],\n",
    "           [\"Jizzax\", \"Navoiy\"], [\"Andijon\", \"Farg'ona\"],\n",
    "           [\"Samarqand\", \"Andijon\"], [\"Buxoro\", \"Samarqand\"]]\n",
    "\n",
    "a = [r[0] for r in regions]\n",
    "\n",
    "print(a)"
   ],
   "metadata": {
    "collapsed": false,
    "pycharm": {
     "name": "#%%\n"
    }
   }
  },
  {
   "cell_type": "markdown",
   "source": [
    "### 2-misol\n",
    "### sonlar = [1, 2, 3, 4, 5]\n",
    "### Ushbu listdagi toq sonlarni 2 ga ko'paytirib yangi listga o'tkazing."
   ],
   "metadata": {
    "collapsed": false,
    "pycharm": {
     "name": "#%% md\n"
    }
   }
  },
  {
   "cell_type": "code",
   "execution_count": 2,
   "outputs": [
    {
     "name": "stdout",
     "output_type": "stream",
     "text": [
      "[2, 4, 6, 8, 10]\n"
     ]
    }
   ],
   "source": [
    "sonlar = [1, 2, 3, 4, 5]\n",
    "new_list = [i * 2 for i in sonlar]\n",
    "\n",
    "print(new_list)"
   ],
   "metadata": {
    "collapsed": false,
    "pycharm": {
     "name": "#%%\n"
    }
   }
  },
  {
   "cell_type": "markdown",
   "source": [
    "### 3-misol\n",
    "### lst = [1, 2, 3, 'Alice', 'Alice']\n",
    "### listdagi ma'lum elementning ilk uchragan indexini topish"
   ],
   "metadata": {
    "collapsed": false,
    "pycharm": {
     "name": "#%% md\n"
    }
   }
  },
  {
   "cell_type": "code",
   "execution_count": 4,
   "outputs": [
    {
     "name": "stdout",
     "output_type": "stream",
     "text": [
      "3\n"
     ]
    }
   ],
   "source": [
    "lst = [1, 2, 3, 'Alice', 'Alice']\n",
    "print(lst.index(\"Alice\"))"
   ],
   "metadata": {
    "collapsed": false,
    "pycharm": {
     "name": "#%%\n"
    }
   }
  },
  {
   "cell_type": "markdown",
   "source": [
    "### listdagi ma'lum elementning barcha indexlarini topish"
   ],
   "metadata": {
    "collapsed": false,
    "pycharm": {
     "name": "#%% md\n"
    }
   }
  },
  {
   "cell_type": "code",
   "execution_count": 6,
   "outputs": [
    {
     "name": "stdout",
     "output_type": "stream",
     "text": [
      "[3, 4]\n"
     ]
    }
   ],
   "source": [
    "lst = [1, 2, 3, 'Alice', 'Alice']\n",
    "indxs = [i for i in range(len(lst)) if lst[i] == 'Alice']\n",
    "\n",
    "print(indxs)"
   ],
   "metadata": {
    "collapsed": false,
    "pycharm": {
     "name": "#%%\n"
    }
   }
  },
  {
   "cell_type": "markdown",
   "source": [
    "### 4-misol\n",
    "### (ism, $-pul) Miilionerni toping."
   ],
   "metadata": {
    "collapsed": false,
    "pycharm": {
     "name": "#%% md\n"
    }
   }
  },
  {
   "cell_type": "code",
   "execution_count": 9,
   "outputs": [
    {
     "name": "stdout",
     "output_type": "stream",
     "text": [
      "['Ann', 'Zach']\n"
     ]
    }
   ],
   "source": [
    "people = [(\"John\", 240_000), (\"Alice\", 120_000), (\"Ann\", 1_100_000), (\"Zach\", 1_144_000)]\n",
    "\n",
    "millioners = [k for k, v in people if v > 1_000_000]\n",
    "print(millioners)"
   ],
   "metadata": {
    "collapsed": false,
    "pycharm": {
     "name": "#%%\n"
    }
   }
  },
  {
   "cell_type": "code",
   "execution_count": 12,
   "outputs": [
    {
     "name": "stdout",
     "output_type": "stream",
     "text": [
      "['Ann', 'Zach']\n"
     ]
    }
   ],
   "source": [
    "def find_millioners(people):\n",
    "    return [k for k, v in people if v >= 1_000_000]\n",
    "\n",
    "\n",
    "print(find_millioners(people))"
   ],
   "metadata": {
    "collapsed": false,
    "pycharm": {
     "name": "#%%\n"
    }
   }
  },
  {
   "cell_type": "code",
   "execution_count": 14,
   "outputs": [
    {
     "ename": "ValueError",
     "evalue": "too many values to unpack (expected 2)",
     "output_type": "error",
     "traceback": [
      "\u001B[1;31m---------------------------------------------------------------------------\u001B[0m",
      "\u001B[1;31mValueError\u001B[0m                                Traceback (most recent call last)",
      "Input \u001B[1;32mIn [14]\u001B[0m, in \u001B[0;36m<cell line: 11>\u001B[1;34m()\u001B[0m\n\u001B[0;32m      7\u001B[0m     \u001B[38;5;28;01massert\u001B[39;00m find_millioners(people_data1) \u001B[38;5;241m==\u001B[39m [\u001B[38;5;124m'\u001B[39m\u001B[38;5;124mAlice\u001B[39m\u001B[38;5;124m'\u001B[39m, \u001B[38;5;124m\"\u001B[39m\u001B[38;5;124mCarol\u001B[39m\u001B[38;5;124m\"\u001B[39m]\n\u001B[0;32m      8\u001B[0m     \u001B[38;5;28;01massert\u001B[39;00m find_millioners(people_data2) \u001B[38;5;241m==\u001B[39m [\u001B[38;5;124m'\u001B[39m\u001B[38;5;124mAlice\u001B[39m\u001B[38;5;124m'\u001B[39m, \u001B[38;5;124m\"\u001B[39m\u001B[38;5;124mFrank\u001B[39m\u001B[38;5;124m\"\u001B[39m]\n\u001B[1;32m---> 11\u001B[0m \u001B[43mtest\u001B[49m\u001B[43m(\u001B[49m\u001B[43m)\u001B[49m\n",
      "Input \u001B[1;32mIn [14]\u001B[0m, in \u001B[0;36mtest\u001B[1;34m()\u001B[0m\n\u001B[0;32m      6\u001B[0m \u001B[38;5;28;01mdef\u001B[39;00m \u001B[38;5;21mtest\u001B[39m():\n\u001B[1;32m----> 7\u001B[0m     \u001B[38;5;28;01massert\u001B[39;00m \u001B[43mfind_millioners\u001B[49m\u001B[43m(\u001B[49m\u001B[43mpeople_data1\u001B[49m\u001B[43m)\u001B[49m \u001B[38;5;241m==\u001B[39m [\u001B[38;5;124m'\u001B[39m\u001B[38;5;124mAlice\u001B[39m\u001B[38;5;124m'\u001B[39m, \u001B[38;5;124m\"\u001B[39m\u001B[38;5;124mCarol\u001B[39m\u001B[38;5;124m\"\u001B[39m]\n\u001B[0;32m      8\u001B[0m     \u001B[38;5;28;01massert\u001B[39;00m find_millioners(people_data2) \u001B[38;5;241m==\u001B[39m [\u001B[38;5;124m'\u001B[39m\u001B[38;5;124mAlice\u001B[39m\u001B[38;5;124m'\u001B[39m, \u001B[38;5;124m\"\u001B[39m\u001B[38;5;124mFrank\u001B[39m\u001B[38;5;124m\"\u001B[39m]\n",
      "Input \u001B[1;32mIn [14]\u001B[0m, in \u001B[0;36mfind_millioners\u001B[1;34m(people)\u001B[0m\n\u001B[0;32m      4\u001B[0m \u001B[38;5;28;01mdef\u001B[39;00m \u001B[38;5;21mfind_millioners\u001B[39m(people):\n\u001B[1;32m----> 5\u001B[0m     \u001B[38;5;28;01mreturn\u001B[39;00m [k \u001B[38;5;28;01mfor\u001B[39;00m k, v \u001B[38;5;129;01min\u001B[39;00m people \u001B[38;5;28;01mif\u001B[39;00m v \u001B[38;5;241m>\u001B[39m\u001B[38;5;241m=\u001B[39m \u001B[38;5;241m1_000_000\u001B[39m]\n",
      "Input \u001B[1;32mIn [14]\u001B[0m, in \u001B[0;36m<listcomp>\u001B[1;34m(.0)\u001B[0m\n\u001B[0;32m      4\u001B[0m \u001B[38;5;28;01mdef\u001B[39;00m \u001B[38;5;21mfind_millioners\u001B[39m(people):\n\u001B[1;32m----> 5\u001B[0m     \u001B[38;5;28;01mreturn\u001B[39;00m [k \u001B[38;5;28;01mfor\u001B[39;00m k, v \u001B[38;5;129;01min\u001B[39;00m people \u001B[38;5;28;01mif\u001B[39;00m v \u001B[38;5;241m>\u001B[39m\u001B[38;5;241m=\u001B[39m \u001B[38;5;241m1_000_000\u001B[39m]\n",
      "\u001B[1;31mValueError\u001B[0m: too many values to unpack (expected 2)"
     ]
    }
   ],
   "source": [
    "people_data1 = {'Alice': 1_000_000, 'Bob': 998_170, 'Carol': 1_229_080, 'Frank': 881_230, 'Eve': 93_121}\n",
    "people_data2 = {'Alice': 1_000_000, 'Bob': 998_170, 'Frank': 1_881_230, 'Eve': 93_121}\n",
    "\n",
    "\n",
    "def test():\n",
    "    assert find_millioners(people_data1) == ['Alice', \"Carol\"]\n",
    "    assert find_millioners(people_data2) == ['Alice', \"Frank\"]\n",
    "\n",
    "\n",
    "test()"
   ],
   "metadata": {
    "collapsed": false,
    "pycharm": {
     "name": "#%%\n"
    }
   }
  },
  {
   "cell_type": "code",
   "execution_count": null,
   "outputs": [],
   "source": [],
   "metadata": {
    "collapsed": false,
    "pycharm": {
     "name": "#%%\n"
    }
   }
  },
  {
   "cell_type": "code",
   "execution_count": null,
   "outputs": [],
   "source": [],
   "metadata": {
    "collapsed": false,
    "pycharm": {
     "name": "#%%\n"
    }
   }
  },
  {
   "cell_type": "code",
   "execution_count": null,
   "outputs": [],
   "source": [],
   "metadata": {
    "collapsed": false,
    "pycharm": {
     "name": "#%%\n"
    }
   }
  },
  {
   "cell_type": "code",
   "execution_count": null,
   "outputs": [],
   "source": [],
   "metadata": {
    "collapsed": false,
    "pycharm": {
     "name": "#%%\n"
    }
   }
  },
  {
   "cell_type": "code",
   "execution_count": null,
   "outputs": [],
   "source": [],
   "metadata": {
    "collapsed": false,
    "pycharm": {
     "name": "#%%\n"
    }
   }
  },
  {
   "cell_type": "markdown",
   "source": [
    "### Oson-1. longWord(word1, word2) - bu funksiya berilgan ikkita string eng uzunini print qilib bersin."
   ],
   "metadata": {
    "collapsed": false,
    "pycharm": {
     "name": "#%% md\n"
    }
   }
  },
  {
   "cell_type": "code",
   "source": [],
   "metadata": {
    "collapsed": false,
    "pycharm": {
     "name": "#%%\n"
    }
   },
   "execution_count": null,
   "outputs": []
  },
  {
   "cell_type": "markdown",
   "source": [
    "### Oson-2. wordCount(matn) - bu funksiya berilgan matndan nechta so'z borligini aniqlab sonni return qiladi.\n",
    "### Masalan: \"Python Django Hello Apple Network\" da 5 ta so'z bor."
   ],
   "metadata": {
    "collapsed": false,
    "pycharm": {
     "name": "#%% md\n"
    }
   }
  },
  {
   "cell_type": "code",
   "source": [],
   "metadata": {
    "collapsed": false,
    "pycharm": {
     "name": "#%%\n"
    }
   },
   "execution_count": null,
   "outputs": []
  },
  {
   "cell_type": "markdown",
   "source": [
    "### Oson-3. findElements(myList) - bu funksiya berilgan myList dan yoq bolgan sonlarni listini return qilsin.\n",
    "### Masalan: [6, 5, 9, 3, 1] -> [2, 4, 7, 8]"
   ],
   "metadata": {
    "collapsed": false,
    "pycharm": {
     "name": "#%% md\n"
    }
   }
  },
  {
   "cell_type": "code",
   "source": [],
   "metadata": {
    "collapsed": false,
    "pycharm": {
     "name": "#%%\n"
    }
   },
   "execution_count": null,
   "outputs": []
  },
  {
   "cell_type": "markdown",
   "source": [
    "### Oson-4. removeElement(myList, elem)-berilgan myList dan elem ni o'chirib tashlang."
   ],
   "metadata": {
    "collapsed": false,
    "pycharm": {
     "name": "#%% md\n"
    }
   }
  },
  {
   "cell_type": "code",
   "source": [],
   "metadata": {
    "collapsed": false,
    "pycharm": {
     "name": "#%%\n"
    }
   },
   "execution_count": null,
   "outputs": []
  },
  {
   "cell_type": "markdown",
   "source": [
    "### Oson-5. findWeekDay(orderNumber) - bu funksiya berilgan orderNumber, yani hafta kuni\n",
    "### tartibini beradi. Shu tartib boyicha hafta kunini string korinishda return qiling.\n",
    "### Masalan: orderNumber = 4 Natija: Payshanba"
   ],
   "metadata": {
    "collapsed": false,
    "pycharm": {
     "name": "#%% md\n"
    }
   }
  },
  {
   "cell_type": "code",
   "source": [],
   "metadata": {
    "collapsed": false,
    "pycharm": {
     "name": "#%%\n"
    }
   },
   "execution_count": null,
   "outputs": []
  },
  {
   "cell_type": "markdown",
   "source": [
    "### Oson-6. funcNumber(myList) - myList da musbat va manfiy sonlar berilgan.\n",
    "### qaysi turdagi sonlar soni ko'pligini print qiling."
   ],
   "metadata": {
    "collapsed": false,
    "pycharm": {
     "name": "#%% md\n"
    }
   }
  },
  {
   "cell_type": "code",
   "source": [],
   "metadata": {
    "collapsed": false,
    "pycharm": {
     "name": "#%%\n"
    }
   },
   "execution_count": null,
   "outputs": []
  },
  {
   "cell_type": "markdown",
   "source": [
    "### O'rta-1\n",
    "### stringList(myList) - myList stringlar listini\n",
    "### Masalan: [\"Python\", \"Hello\", \"World\", \"Good\"]\n",
    "### Toq o'rindagi elementlarni toq va juft indexdagi harflarni o'rnini alishtiring.\n",
    "### Masalan: \"Python\" -> \"yPhtno\"\n",
    "### Juft o'rindagi elemetnlarni esa birinchi harifini oxirgisi bilan ikkinchisini oxirgisidan bitta oldingisi bilan alishtiring.\n",
    "### Masalan: \"Good\" -> \"dooG\""
   ],
   "metadata": {
    "collapsed": false,
    "pycharm": {
     "name": "#%% md\n"
    }
   }
  },
  {
   "cell_type": "code",
   "source": [],
   "metadata": {
    "collapsed": false,
    "pycharm": {
     "name": "#%%\n"
    }
   },
   "execution_count": null,
   "outputs": []
  },
  {
   "cell_type": "markdown",
   "source": [
    "### Qiyin-1. [1, 2, 3, 4] -> [(1, 2, 3), (2, 3, 4), (1, 2, 4), (1, 3, 4))]\n",
    "### findTriples(myList) - berilgan listdan bir biri bilan duch kelgan uchtalikni yangi listga append qilsin va listni return qilsin.\n",
    "### (1, 2, 4) -> (2, 1, 4) mumkin emas."
   ],
   "metadata": {
    "collapsed": false,
    "pycharm": {
     "name": "#%% md\n"
    }
   }
  },
  {
   "cell_type": "code",
   "source": [],
   "metadata": {
    "collapsed": false,
    "pycharm": {
     "name": "#%%\n"
    }
   },
   "execution_count": null,
   "outputs": []
  },
  {
   "cell_type": "markdown",
   "source": [
    "### Qiyin-2. moveZero(myList) - bu funksiya berilgan listdan nollarni oxiriga surib\n",
    "### qolgan sonlarni o'sish tartibida tartiblaydi va yangilangan listni return qiladi.\n",
    "### Masal: [5, 0, 1, 4, 0, 7, 2, 0] -> [1, 2, 4, 5, 7, 0, 0, 0]"
   ],
   "metadata": {
    "collapsed": false,
    "pycharm": {
     "name": "#%% md\n"
    }
   }
  },
  {
   "cell_type": "code",
   "source": [],
   "metadata": {
    "collapsed": false,
    "pycharm": {
     "name": "#%%\n"
    }
   },
   "execution_count": null,
   "outputs": []
  },
  {
   "cell_type": "markdown",
   "source": [
    "## Qiyin-3. pairCount(word) - word ni ichida hamma uchrashgan jufliklarni sonni\n",
    "## aniqlang va return qiling.\n",
    "## Masalan: \"ababwertre\" -> {\"ab\": 3, \"bw\": 1, \"we\": 1, \"er\": 2, \"rt\": 3}"
   ],
   "metadata": {
    "collapsed": false,
    "pycharm": {
     "name": "#%% md\n"
    }
   }
  },
  {
   "cell_type": "code",
   "source": [],
   "metadata": {
    "collapsed": false,
    "pycharm": {
     "name": "#%%\n"
    }
   },
   "execution_count": null,
   "outputs": []
  },
  {
   "cell_type": "markdown",
   "source": [
    "### Qiyin-4. Ikki o'lchovli list berilgan.\n",
    "### Masalan: [\n",
    "###   [4, 9, 3],\n",
    "###   [5, 2, 6],\n",
    "###   [8, 1, 7]\n",
    "### ]\n",
    "### Funksiya elon qiling diagonal(myList, is_reversed)\n",
    "### myList - ikki o'lchovli list\n",
    "### is_reversed - boolean\n",
    "### Agar is_reversed = False bolsa\n",
    "### Ikki o'lchovli listni to'gri diagonalini,\n",
    "### is_reversed = True bo'lsa teskari diagonalini\n",
    "### print qiling.\n",
    "### Natija: To'gri diagonal = [4, 2, 7], Teskari diagonal = [3, 2, 8]"
   ],
   "metadata": {
    "collapsed": false
   }
  },
  {
   "cell_type": "code",
   "execution_count": null,
   "outputs": [],
   "source": [],
   "metadata": {
    "collapsed": false,
    "pycharm": {
     "name": "#%%\n"
    }
   }
  },
  {
   "cell_type": "code",
   "execution_count": null,
   "outputs": [],
   "source": [],
   "metadata": {
    "collapsed": false,
    "pycharm": {
     "name": "#%%\n"
    }
   }
  },
  {
   "cell_type": "code",
   "execution_count": null,
   "outputs": [],
   "source": [],
   "metadata": {
    "collapsed": false,
    "pycharm": {
     "name": "#%%\n"
    }
   }
  }
 ],
 "metadata": {
  "kernelspec": {
   "display_name": "Python 3",
   "language": "python",
   "name": "python3"
  },
  "language_info": {
   "codemirror_mode": {
    "name": "ipython",
    "version": 2
   },
   "file_extension": ".py",
   "mimetype": "text/x-python",
   "name": "python",
   "nbconvert_exporter": "python",
   "pygments_lexer": "ipython2",
   "version": "2.7.6"
  }
 },
 "nbformat": 4,
 "nbformat_minor": 0
}