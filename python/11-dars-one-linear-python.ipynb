{
 "cells": [
  {
   "cell_type": "markdown",
   "source": [
    "### LIST COMPEHENSION\n",
    "### 1-misol"
   ],
   "metadata": {
    "collapsed": false,
    "pycharm": {
     "name": "#%% md\n"
    }
   }
  },
  {
   "cell_type": "code",
   "execution_count": 1,
   "outputs": [
    {
     "name": "stdout",
     "output_type": "stream",
     "text": [
      "['Toshkent', \"Farg'ona\", 'Jizzax', 'Andijon', 'Samarqand', 'Buxoro']\n"
     ]
    }
   ],
   "source": [
    "regions = [[\"Toshkent\", \"Buxoro\"], [\"Farg'ona\", \"Jizzax\"],\n",
    "           [\"Jizzax\", \"Navoiy\"], [\"Andijon\", \"Farg'ona\"],\n",
    "           [\"Samarqand\", \"Andijon\"], [\"Buxoro\", \"Samarqand\"]]\n",
    "\n",
    "a = [r[0] for r in regions]\n",
    "\n",
    "print(a)"
   ],
   "metadata": {
    "collapsed": false,
    "pycharm": {
     "name": "#%%\n"
    }
   }
  },
  {
   "cell_type": "markdown",
   "source": [
    "### 2-misol\n",
    "### sonlar = [1, 2, 3, 4, 5]\n",
    "### Ushbu listdagi toq sonlarni 2 ga ko'paytirib yangi listga o'tkazing."
   ],
   "metadata": {
    "collapsed": false,
    "pycharm": {
     "name": "#%% md\n"
    }
   }
  },
  {
   "cell_type": "code",
   "execution_count": 2,
   "outputs": [
    {
     "name": "stdout",
     "output_type": "stream",
     "text": [
      "[2, 4, 6, 8, 10]\n"
     ]
    }
   ],
   "source": [
    "sonlar = [1, 2, 3, 4, 5]\n",
    "new_list = [i * 2 for i in sonlar]\n",
    "\n",
    "print(new_list)"
   ],
   "metadata": {
    "collapsed": false,
    "pycharm": {
     "name": "#%%\n"
    }
   }
  },
  {
   "cell_type": "markdown",
   "source": [
    "### 3-misol\n",
    "### lst = [1, 2, 3, 'Alice', 'Alice']\n",
    "### listdagi ma'lum elementning ilk uchragan indexini topish"
   ],
   "metadata": {
    "collapsed": false,
    "pycharm": {
     "name": "#%% md\n"
    }
   }
  },
  {
   "cell_type": "code",
   "execution_count": 4,
   "outputs": [
    {
     "name": "stdout",
     "output_type": "stream",
     "text": [
      "3\n"
     ]
    }
   ],
   "source": [
    "lst = [1, 2, 3, 'Alice', 'Alice']\n",
    "print(lst.index(\"Alice\"))"
   ],
   "metadata": {
    "collapsed": false,
    "pycharm": {
     "name": "#%%\n"
    }
   }
  },
  {
   "cell_type": "markdown",
   "source": [
    "### listdagi ma'lum elementning barcha indexlarini topish"
   ],
   "metadata": {
    "collapsed": false,
    "pycharm": {
     "name": "#%% md\n"
    }
   }
  },
  {
   "cell_type": "code",
   "execution_count": 6,
   "outputs": [
    {
     "name": "stdout",
     "output_type": "stream",
     "text": [
      "[3, 4]\n"
     ]
    }
   ],
   "source": [
    "lst = [1, 2, 3, 'Alice', 'Alice']\n",
    "indxs = [i for i in range(len(lst)) if lst[i] == 'Alice']\n",
    "\n",
    "print(indxs)"
   ],
   "metadata": {
    "collapsed": false,
    "pycharm": {
     "name": "#%%\n"
    }
   }
  },
  {
   "cell_type": "markdown",
   "source": [
    "### 4-misol\n",
    "### (ism, $-pul) Miilionerni toping."
   ],
   "metadata": {
    "collapsed": false,
    "pycharm": {
     "name": "#%% md\n"
    }
   }
  },
  {
   "cell_type": "code",
   "execution_count": 9,
   "outputs": [
    {
     "name": "stdout",
     "output_type": "stream",
     "text": [
      "['Ann', 'Zach']\n"
     ]
    }
   ],
   "source": [
    "people = [(\"John\", 240_000), (\"Alice\", 120_000), (\"Ann\", 1_100_000), (\"Zach\", 1_144_000)]\n",
    "\n",
    "millioners = [k for k, v in people if v > 1_000_000]\n",
    "print(millioners)"
   ],
   "metadata": {
    "collapsed": false,
    "pycharm": {
     "name": "#%%\n"
    }
   }
  },
  {
   "cell_type": "code",
   "execution_count": 25,
   "outputs": [],
   "source": [
    "def find_millioners(people):\n",
    "    millioners = [k for k, v in people.items() if v >= 1_000_000]\n",
    "    return millioners\n",
    "\n"
   ],
   "metadata": {
    "collapsed": false,
    "pycharm": {
     "name": "#%%\n"
    }
   }
  },
  {
   "cell_type": "code",
   "execution_count": 27,
   "outputs": [],
   "source": [
    "people_data1 = {'Alice': 1_000_000, 'Bob': 998_170, 'Carol': 1_229_080, 'Frank': 881_230, 'Eve': 93_121}\n",
    "people_data2 = {'Alice': 1_000_000, 'Bob': 998_170, 'Frank': 1_881_230, 'Eve': 93_121}\n",
    "\n",
    "\n",
    "def test():\n",
    "    assert find_millioners(people_data1) == ['Alice', \"Carol\"]\n",
    "    assert find_millioners(people_data2) == ['Alice', \"Frank\"]\n",
    "\n",
    "\n",
    "test()\n",
    "# find_millioners(people_data2)"
   ],
   "metadata": {
    "collapsed": false,
    "pycharm": {
     "name": "#%%\n"
    }
   }
  },
  {
   "cell_type": "markdown",
   "source": [
    "### 5-misol\n",
    "### [(0, 0), (0, 1), (0, 2), (1, 0), (1, 1), (1, 2), (2, 0), (2, 1), (2, 2)]"
   ],
   "metadata": {
    "collapsed": false,
    "pycharm": {
     "name": "#%% md\n"
    }
   }
  },
  {
   "cell_type": "code",
   "execution_count": 30,
   "outputs": [
    {
     "name": "stdout",
     "output_type": "stream",
     "text": [
      "[(0, 0), (0, 1), (0, 2), (1, 0), (1, 1), (1, 2), (2, 0), (2, 1), (2, 2)]\n"
     ]
    }
   ],
   "source": [
    "print([(i, k) for i in range(3) for k in range(3)])"
   ],
   "metadata": {
    "collapsed": false,
    "pycharm": {
     "name": "#%%\n"
    }
   }
  },
  {
   "cell_type": "markdown",
   "source": [
    "### 6-misol\n",
    "### Matndani uzulnigi 7 ta harfdan ortiq bo'lgan so'zlarni toping"
   ],
   "metadata": {
    "collapsed": false,
    "pycharm": {
     "name": "#%% md\n"
    }
   }
  },
  {
   "cell_type": "code",
   "execution_count": 37,
   "outputs": [
    {
     "name": "stdout",
     "output_type": "stream",
     "text": [
      "[['Ishmael.', 'precisely'], ['particular', 'interest'], [], ['regulating', 'circulation.']]\n"
     ]
    }
   ],
   "source": [
    "text = '''Call me Ishmael. Some years ago - never mind how long precisely - having little\n",
    "or no money in my purse, and nothing particular to interest me on shore, I thought I would\n",
    "sail about a little and see the watery part of the world. It is a way I have of driving off\n",
    "the spleen, and regulating the circulation. - Moby Dick '''\n",
    "\n",
    "# print(text.split(\"\\n\"))\n",
    "\n",
    "w = [[i for i in r.split() if len(i) > 7] for r in text.split(\"\\n\")]\n",
    "\n",
    "print(w)"
   ],
   "metadata": {
    "collapsed": false,
    "pycharm": {
     "name": "#%%\n"
    }
   }
  },
  {
   "cell_type": "markdown",
   "source": [
    "## Ziplash"
   ],
   "metadata": {
    "collapsed": false,
    "pycharm": {
     "name": "#%% md\n"
    }
   }
  },
  {
   "cell_type": "code",
   "execution_count": 39,
   "outputs": [
    {
     "name": "stdout",
     "output_type": "stream",
     "text": [
      "[('ism', 'Akmal'), ('familiya', 'Tohirov'), ('yosh', 16)]\n"
     ]
    }
   ],
   "source": [
    "lst_1 = ['ism', 'familiya', 'yosh']\n",
    "lst_2 = ['Akmal', 'Tohirov', 16]\n",
    "\n",
    "zipped = list(zip(lst_1, lst_2))\n",
    "print(zipped)"
   ],
   "metadata": {
    "collapsed": false,
    "pycharm": {
     "name": "#%%\n"
    }
   }
  },
  {
   "cell_type": "markdown",
   "source": [
    "## Unziplash"
   ],
   "metadata": {
    "collapsed": false,
    "pycharm": {
     "name": "#%% md\n"
    }
   }
  },
  {
   "cell_type": "code",
   "execution_count": 40,
   "outputs": [
    {
     "name": "stdout",
     "output_type": "stream",
     "text": [
      "('ism', 'familiya', 'yosh')\n",
      "('Akmal', 'Tohirov', 16)\n"
     ]
    }
   ],
   "source": [
    "lst1, lst2 = zip(*zipped)\n",
    "print(lst1)\n",
    "print(lst2)"
   ],
   "metadata": {
    "collapsed": false,
    "pycharm": {
     "name": "#%%\n"
    }
   }
  },
  {
   "cell_type": "markdown",
   "source": [
    "### 7-misol"
   ],
   "metadata": {
    "collapsed": false,
    "pycharm": {
     "name": "#%% md\n"
    }
   }
  },
  {
   "cell_type": "code",
   "execution_count": 44,
   "outputs": [
    {
     "name": "stdout",
     "output_type": "stream",
     "text": [
      "[{'name': 'Alice', 'salary': 180000, 'job': 'data scientist'}, {'name': 'Bob', 'salary': 99000, 'job': 'project manager'}, {'name': 'Frank', 'salary': 87000, 'job': 'backend developer'}]\n"
     ]
    }
   ],
   "source": [
    "ustun_nomlari = ['name', 'salary', 'job']\n",
    "qatorlar = [('Alice', 180_000, 'data scientist'),\n",
    "            ('Bob', 99_000, 'project manager'),\n",
    "            ('Frank', 87_000, 'backend developer')]\n",
    "\n",
    "db = [dict(zip(ustun_nomlari, row)) for row in qatorlar]\n",
    "\n",
    "print(db)"
   ],
   "metadata": {
    "collapsed": false,
    "pycharm": {
     "name": "#%%\n"
    }
   }
  },
  {
   "cell_type": "markdown",
   "source": [
    "### lambda()"
   ],
   "metadata": {
    "collapsed": false,
    "pycharm": {
     "name": "#%% md\n"
    }
   }
  },
  {
   "cell_type": "code",
   "execution_count": 45,
   "outputs": [
    {
     "name": "stdout",
     "output_type": "stream",
     "text": [
      "6\n"
     ]
    }
   ],
   "source": [
    "summa = lambda a, b, c: a + b + c\n",
    "print(summa(1, 2, 3))"
   ],
   "metadata": {
    "collapsed": false,
    "pycharm": {
     "name": "#%%\n"
    }
   }
  },
  {
   "cell_type": "code",
   "execution_count": 46,
   "outputs": [
    {
     "name": "stdout",
     "output_type": "stream",
     "text": [
      "6\n"
     ]
    }
   ],
   "source": [
    "print((lambda a, b, c: a + b + c)(1, 2, 3))"
   ],
   "metadata": {
    "collapsed": false,
    "pycharm": {
     "name": "#%%\n"
    }
   }
  },
  {
   "cell_type": "code",
   "execution_count": 47,
   "outputs": [
    {
     "name": "stdout",
     "output_type": "stream",
     "text": [
      "27\n"
     ]
    }
   ],
   "source": [
    "print((lambda x: x * 3)(9))"
   ],
   "metadata": {
    "collapsed": false,
    "pycharm": {
     "name": "#%%\n"
    }
   }
  },
  {
   "cell_type": "markdown",
   "source": [
    "## map()"
   ],
   "metadata": {
    "collapsed": false,
    "pycharm": {
     "name": "#%% md\n"
    }
   }
  },
  {
   "cell_type": "markdown",
   "source": [
    "### 9-misol: sonlarni integerga o'tkazing"
   ],
   "metadata": {
    "collapsed": false,
    "pycharm": {
     "name": "#%% md\n"
    }
   }
  },
  {
   "cell_type": "code",
   "execution_count": 50,
   "outputs": [
    {
     "name": "stdout",
     "output_type": "stream",
     "text": [
      "[4, 8, 6, 5, 3, 2, 8, 9, 2, 5]\n",
      "<class 'list'>\n"
     ]
    }
   ],
   "source": [
    "str_nums = [\"4\", \"8\", \"6\", \"5\", \"3\", \"2\", \"8\", \"9\", \"2\", \"5\"]\n",
    "int_nums = list(map(int, str_nums))\n",
    "print(int_nums)\n",
    "print(type(int_nums))"
   ],
   "metadata": {
    "collapsed": false,
    "pycharm": {
     "name": "#%%\n"
    }
   }
  },
  {
   "cell_type": "markdown",
   "source": [
    "### 10-misol: sonlarni kvadratga ko'taring\n",
    "### numbers = [1, 2, 3, 4, 5]"
   ],
   "metadata": {
    "collapsed": false,
    "pycharm": {
     "name": "#%% md\n"
    }
   }
  },
  {
   "cell_type": "code",
   "execution_count": 51,
   "outputs": [
    {
     "name": "stdout",
     "output_type": "stream",
     "text": [
      "[1, 4, 9, 16, 25]\n"
     ]
    }
   ],
   "source": [
    "numbers = [1, 2, 3, 4, 5]\n",
    "print(list(map(lambda x: x ** 2, numbers)))"
   ],
   "metadata": {
    "collapsed": false,
    "pycharm": {
     "name": "#%%\n"
    }
   }
  },
  {
   "cell_type": "markdown",
   "source": [
    "### 11-misol: listdagi elementlarni mos indexi bo'yicha ayiring."
   ],
   "metadata": {
    "collapsed": false,
    "pycharm": {
     "name": "#%% md\n"
    }
   }
  },
  {
   "cell_type": "code",
   "execution_count": 52,
   "outputs": [
    {
     "name": "stdout",
     "output_type": "stream",
     "text": [
      "[1, 1, 1]\n"
     ]
    }
   ],
   "source": [
    "print(list(map(lambda x, y: x - y, [2, 4, 6], [1, 3, 5])))"
   ],
   "metadata": {
    "collapsed": false,
    "pycharm": {
     "name": "#%%\n"
    }
   }
  },
  {
   "cell_type": "markdown",
   "source": [
    "### 12-misol: Listdagi elementlarni katta harfga o'tkazing\n",
    "### string_it = [\"processing\", \"strings\", \"with\", \"map\"]"
   ],
   "metadata": {
    "collapsed": false,
    "pycharm": {
     "name": "#%% md\n"
    }
   }
  },
  {
   "cell_type": "code",
   "execution_count": 54,
   "outputs": [
    {
     "name": "stdout",
     "output_type": "stream",
     "text": [
      "['PROCESSING', 'STRINGS', 'WITH', 'MAP']\n",
      "['Processing', 'Strings', 'With', 'Map']\n"
     ]
    }
   ],
   "source": [
    "string_it = [\"processing\", \"strings\", \"with\", \"map\"]\n",
    "\n",
    "print(list(map(str.upper, string_it)))\n",
    "print(list(map(str.title, string_it)))"
   ],
   "metadata": {
    "collapsed": false,
    "pycharm": {
     "name": "#%%\n"
    }
   }
  },
  {
   "cell_type": "markdown",
   "source": [
    "### Reduce()\n",
    "### 13-misol: faktorialni toping: !4 = 1*2*3*4"
   ],
   "metadata": {
    "collapsed": false,
    "pycharm": {
     "name": "#%% md\n"
    }
   }
  },
  {
   "cell_type": "code",
   "execution_count": 55,
   "outputs": [
    {
     "name": "stdout",
     "output_type": "stream",
     "text": [
      "24\n"
     ]
    }
   ],
   "source": [
    "from functools import reduce\n",
    "\n",
    "print(reduce(lambda x, y: x * y, range(1, 5)))"
   ],
   "metadata": {
    "collapsed": false,
    "pycharm": {
     "name": "#%%\n"
    }
   }
  },
  {
   "cell_type": "markdown",
   "source": [
    "### Oson-1. longWord(word1, word2) - bu funksiya berilgan ikkita string eng uzunini print qilib bersin."
   ],
   "metadata": {
    "collapsed": false,
    "pycharm": {
     "name": "#%% md\n"
    }
   }
  },
  {
   "cell_type": "code",
   "source": [],
   "metadata": {
    "collapsed": false,
    "pycharm": {
     "name": "#%%\n"
    }
   },
   "execution_count": null,
   "outputs": []
  },
  {
   "cell_type": "markdown",
   "source": [
    "### Oson-2. wordCount(matn) - bu funksiya berilgan matndan nechta so'z borligini aniqlab sonni return qiladi.\n",
    "### Masalan: \"Python Django Hello Apple Network\" da 5 ta so'z bor."
   ],
   "metadata": {
    "collapsed": false,
    "pycharm": {
     "name": "#%% md\n"
    }
   }
  },
  {
   "cell_type": "code",
   "source": [],
   "metadata": {
    "collapsed": false,
    "pycharm": {
     "name": "#%%\n"
    }
   },
   "execution_count": null,
   "outputs": []
  },
  {
   "cell_type": "markdown",
   "source": [
    "### Oson-3. findElements(myList) - bu funksiya berilgan myList dan yoq bolgan sonlarni listini return qilsin.\n",
    "### Masalan: [6, 5, 9, 3, 1] -> [2, 4, 7, 8]"
   ],
   "metadata": {
    "collapsed": false,
    "pycharm": {
     "name": "#%% md\n"
    }
   }
  },
  {
   "cell_type": "code",
   "source": [],
   "metadata": {
    "collapsed": false,
    "pycharm": {
     "name": "#%%\n"
    }
   },
   "execution_count": null,
   "outputs": []
  },
  {
   "cell_type": "markdown",
   "source": [
    "### Oson-4. removeElement(myList, elem)-berilgan myList dan elem ni o'chirib tashlang."
   ],
   "metadata": {
    "collapsed": false,
    "pycharm": {
     "name": "#%% md\n"
    }
   }
  },
  {
   "cell_type": "code",
   "source": [],
   "metadata": {
    "collapsed": false,
    "pycharm": {
     "name": "#%%\n"
    }
   },
   "execution_count": null,
   "outputs": []
  },
  {
   "cell_type": "markdown",
   "source": [
    "### Oson-5. findWeekDay(orderNumber) - bu funksiya berilgan orderNumber, yani hafta kuni\n",
    "### tartibini beradi. Shu tartib boyicha hafta kunini string korinishda return qiling.\n",
    "### Masalan: orderNumber = 4 Natija: Payshanba"
   ],
   "metadata": {
    "collapsed": false,
    "pycharm": {
     "name": "#%% md\n"
    }
   }
  },
  {
   "cell_type": "code",
   "source": [],
   "metadata": {
    "collapsed": false,
    "pycharm": {
     "name": "#%%\n"
    }
   },
   "execution_count": null,
   "outputs": []
  },
  {
   "cell_type": "markdown",
   "source": [
    "### Oson-6. funcNumber(myList) - myList da musbat va manfiy sonlar berilgan.\n",
    "### qaysi turdagi sonlar soni ko'pligini print qiling."
   ],
   "metadata": {
    "collapsed": false,
    "pycharm": {
     "name": "#%% md\n"
    }
   }
  },
  {
   "cell_type": "code",
   "source": [],
   "metadata": {
    "collapsed": false,
    "pycharm": {
     "name": "#%%\n"
    }
   },
   "execution_count": null,
   "outputs": []
  },
  {
   "cell_type": "markdown",
   "source": [
    "### O'rta-1\n",
    "### stringList(myList) - myList stringlar listini\n",
    "### Masalan: [\"Python\", \"Hello\", \"World\", \"Good\"]\n",
    "### Toq o'rindagi elementlarni toq va juft indexdagi harflarni o'rnini alishtiring.\n",
    "### Masalan: \"Python\" -> \"yPhtno\"\n",
    "### Juft o'rindagi elemetnlarni esa birinchi harifini oxirgisi bilan ikkinchisini oxirgisidan bitta oldingisi bilan alishtiring.\n",
    "### Masalan: \"Good\" -> \"dooG\""
   ],
   "metadata": {
    "collapsed": false,
    "pycharm": {
     "name": "#%% md\n"
    }
   }
  },
  {
   "cell_type": "code",
   "source": [],
   "metadata": {
    "collapsed": false,
    "pycharm": {
     "name": "#%%\n"
    }
   },
   "execution_count": null,
   "outputs": []
  },
  {
   "cell_type": "markdown",
   "source": [
    "### Qiyin-1. [1, 2, 3, 4] -> [(1, 2, 3), (2, 3, 4), (1, 2, 4), (1, 3, 4))]\n",
    "### findTriples(myList) - berilgan listdan bir biri bilan duch kelgan uchtalikni yangi listga append qilsin va listni return qilsin.\n",
    "### (1, 2, 4) -> (2, 1, 4) mumkin emas."
   ],
   "metadata": {
    "collapsed": false,
    "pycharm": {
     "name": "#%% md\n"
    }
   }
  },
  {
   "cell_type": "code",
   "source": [],
   "metadata": {
    "collapsed": false,
    "pycharm": {
     "name": "#%%\n"
    }
   },
   "execution_count": null,
   "outputs": []
  },
  {
   "cell_type": "markdown",
   "source": [
    "### Qiyin-2. moveZero(myList) - bu funksiya berilgan listdan nollarni oxiriga surib\n",
    "### qolgan sonlarni o'sish tartibida tartiblaydi va yangilangan listni return qiladi.\n",
    "### Masal: [5, 0, 1, 4, 0, 7, 2, 0] -> [1, 2, 4, 5, 7, 0, 0, 0]"
   ],
   "metadata": {
    "collapsed": false,
    "pycharm": {
     "name": "#%% md\n"
    }
   }
  },
  {
   "cell_type": "code",
   "source": [],
   "metadata": {
    "collapsed": false,
    "pycharm": {
     "name": "#%%\n"
    }
   },
   "execution_count": null,
   "outputs": []
  },
  {
   "cell_type": "markdown",
   "source": [
    "## Qiyin-3. pairCount(word) - word ni ichida hamma uchrashgan jufliklarni sonni\n",
    "## aniqlang va return qiling.\n",
    "## Masalan: \"ababwertre\" -> {\"ab\": 3, \"bw\": 1, \"we\": 1, \"er\": 2, \"rt\": 3}"
   ],
   "metadata": {
    "collapsed": false,
    "pycharm": {
     "name": "#%% md\n"
    }
   }
  },
  {
   "cell_type": "code",
   "source": [],
   "metadata": {
    "collapsed": false,
    "pycharm": {
     "name": "#%%\n"
    }
   },
   "execution_count": null,
   "outputs": []
  },
  {
   "cell_type": "markdown",
   "source": [
    "### Qiyin-4. Ikki o'lchovli list berilgan.\n",
    "### Masalan: [\n",
    "###   [4, 9, 3],\n",
    "###   [5, 2, 6],\n",
    "###   [8, 1, 7]\n",
    "### ]\n",
    "### Funksiya elon qiling diagonal(myList, is_reversed)\n",
    "### myList - ikki o'lchovli list\n",
    "### is_reversed - boolean\n",
    "### Agar is_reversed = False bolsa\n",
    "### Ikki o'lchovli listni to'gri diagonalini,\n",
    "### is_reversed = True bo'lsa teskari diagonalini\n",
    "### print qiling.\n",
    "### Natija: To'gri diagonal = [4, 2, 7], Teskari diagonal = [3, 2, 8]"
   ],
   "metadata": {
    "collapsed": false
   }
  },
  {
   "cell_type": "code",
   "execution_count": null,
   "outputs": [],
   "source": [],
   "metadata": {
    "collapsed": false,
    "pycharm": {
     "name": "#%%\n"
    }
   }
  },
  {
   "cell_type": "code",
   "execution_count": null,
   "outputs": [],
   "source": [],
   "metadata": {
    "collapsed": false,
    "pycharm": {
     "name": "#%%\n"
    }
   }
  },
  {
   "cell_type": "code",
   "execution_count": null,
   "outputs": [],
   "source": [],
   "metadata": {
    "collapsed": false,
    "pycharm": {
     "name": "#%%\n"
    }
   }
  }
 ],
 "metadata": {
  "kernelspec": {
   "display_name": "Python 3",
   "language": "python",
   "name": "python3"
  },
  "language_info": {
   "codemirror_mode": {
    "name": "ipython",
    "version": 2
   },
   "file_extension": ".py",
   "mimetype": "text/x-python",
   "name": "python",
   "nbconvert_exporter": "python",
   "pygments_lexer": "ipython2",
   "version": "2.7.6"
  }
 },
 "nbformat": 4,
 "nbformat_minor": 0
}