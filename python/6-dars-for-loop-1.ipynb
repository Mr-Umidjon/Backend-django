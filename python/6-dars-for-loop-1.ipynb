{
 "cells": [
  {
   "cell_type": "markdown",
   "id": "c4419105-4edd-4a61-ad8a-e49c89129b3a",
   "metadata": {},
   "source": [
    "### 1. K va N soni berilgan (N > 0). K sonini N marta print qiling."
   ]
  },
  {
   "cell_type": "code",
   "execution_count": 4,
   "id": "4efb7fcf-8b5b-4ed0-bf82-6db50893d480",
   "metadata": {},
   "outputs": [
    {
     "name": "stdin",
     "output_type": "stream",
     "text": [
      "K =  2345\n",
      "N =  5\n"
     ]
    },
    {
     "name": "stdout",
     "output_type": "stream",
     "text": [
      "2345\n",
      "2345\n",
      "2345\n",
      "2345\n",
      "2345\n"
     ]
    }
   ],
   "source": [
    "k = int(input(\"K = \"))\n",
    "n = int(input(\"N = \"))\n",
    "\n",
    "for _ in range(n):\n",
    "    print(k)"
   ]
  },
  {
   "cell_type": "markdown",
   "id": "920adf32-12cf-4949-a3cc-de7ed7d9cdf7",
   "metadata": {},
   "source": [
    "### 2. 1 dan n gacha bo'lgan toq sonlar yig'indisini toping."
   ]
  },
  {
   "cell_type": "code",
   "execution_count": 6,
   "id": "86bbbd0b-884c-4678-9386-41bf35a5058a",
   "metadata": {},
   "outputs": [
    {
     "name": "stdin",
     "output_type": "stream",
     "text": [
      "N =  5\n"
     ]
    },
    {
     "name": "stdout",
     "output_type": "stream",
     "text": [
      "9\n"
     ]
    }
   ],
   "source": [
    "n = int(input(\"N = \"))\n",
    "\n",
    "sum_toq = 0\n",
    "for i in range(1, n+1):\n",
    "    if i % 2 == 1:\n",
    "        sum_toq += i\n",
    "print(sum_toq)"
   ]
  },
  {
   "cell_type": "markdown",
   "id": "779b8ada-6ef6-4026-b324-4b91a7580374",
   "metadata": {},
   "source": [
    "### 3. 1 dan n gacha bo'lgan 3 ga bo'linadigan lekin 9 ga bo'linmidigan sonlar yig'indisini toping."
   ]
  },
  {
   "cell_type": "code",
   "execution_count": 9,
   "id": "b5d7d43a-93b5-4961-8812-52b3a1d0358d",
   "metadata": {},
   "outputs": [
    {
     "name": "stdin",
     "output_type": "stream",
     "text": [
      "N =  123\n"
     ]
    },
    {
     "name": "stdout",
     "output_type": "stream",
     "text": [
      "1641\n"
     ]
    }
   ],
   "source": [
    "n = int(input(\"N = \"))\n",
    "\n",
    "summa = 0\n",
    "for i in range(3, n):\n",
    "    if i % 3 == 0 and i % 9 != 0:\n",
    "        summa += i\n",
    "print(summa)"
   ]
  },
  {
   "cell_type": "markdown",
   "id": "27b61e86-2995-4f4f-8e2e-d779efe1b650",
   "metadata": {},
   "source": [
    "### 4. 1 dan n gacha bo'lgan sonlarni kvadratlari yig'indisini toping."
   ]
  },
  {
   "cell_type": "code",
   "execution_count": 11,
   "id": "b3170232-d408-43bf-8b5e-fdb64259dceb",
   "metadata": {},
   "outputs": [
    {
     "name": "stdin",
     "output_type": "stream",
     "text": [
      "N =  3\n"
     ]
    },
    {
     "name": "stdout",
     "output_type": "stream",
     "text": [
      "14\n"
     ]
    }
   ],
   "source": [
    "n = int(input(\"N = \"))\n",
    "\n",
    "summa = 0\n",
    "for i in range(n+1):\n",
    "    summa += i**2\n",
    "print(summa)"
   ]
  },
  {
   "cell_type": "markdown",
   "id": "02f7383e-15a3-4fdf-9a20-e076fd16d530",
   "metadata": {},
   "source": [
    "### 5. Soz kiritaman. Undan keyin 1 dan – sozni uzunligigacha bolgan son kiritishimni sorasin. Kiritilgan sonni tartibidagi harifni soz da olib tashlasin."
   ]
  },
  {
   "cell_type": "code",
   "execution_count": 12,
   "id": "5405efe9-b31b-481a-b5f8-661e23ad0fd9",
   "metadata": {},
   "outputs": [
    {
     "ename": "IndentationError",
     "evalue": "expected an indented block (764395382.py, line 9)",
     "output_type": "error",
     "traceback": [
      "\u001b[1;36m  Input \u001b[1;32mIn [12]\u001b[1;36m\u001b[0m\n\u001b[1;33m    \u001b[0m\n\u001b[1;37m    ^\u001b[0m\n\u001b[1;31mIndentationError\u001b[0m\u001b[1;31m:\u001b[0m expected an indented block\n"
     ]
    }
   ],
   "source": [
    "soz = input(\"So'z kiriting \")\n",
    "l = len(soz)\n",
    "print(f\"1 dan {l} gacha bo'lgan son kiriting:\")\n",
    "son = int(input())\n",
    "\n",
    "for i in range(l):\n",
    "    if son == i:\n",
    "        \n",
    "\n"
   ]
  },
  {
   "cell_type": "markdown",
   "id": "95ec5e45-3e35-4809-87fa-195b7986cb03",
   "metadata": {},
   "source": [
    "### 6. Agar online magazindan kiyim olsangiz va butun narx 100000 dan ko'p bo'lsa sizga 10% skidka qilib bersin . agar 50000 dan ko'p bo'lsa sizga 5% skidka qilib bersin. agar undan kam bo'lsa o'zini narxida bersin."
   ]
  },
  {
   "cell_type": "code",
   "execution_count": null,
   "id": "5a684249-74bf-44d1-b206-9af24c942ef8",
   "metadata": {},
   "outputs": [],
   "source": []
  },
  {
   "cell_type": "markdown",
   "id": "cc78836b-7492-4824-81d7-3f9ef5ac792c",
   "metadata": {},
   "source": [
    "### 7. Sonlar berilgan A va B (A < B). A va B oraligida joylashgan sonlarni kamayish tartibida print qilin (A va B) shu oraliqqa kirmasin. Shu sonlarni sonini (uzunligini) print qiling"
   ]
  },
  {
   "cell_type": "code",
   "execution_count": 15,
   "id": "3cfc8fba-5d8d-4622-b2c0-a0fdc99e32fa",
   "metadata": {},
   "outputs": [
    {
     "name": "stdin",
     "output_type": "stream",
     "text": [
      "A =  3\n",
      "B =  13\n"
     ]
    },
    {
     "name": "stdout",
     "output_type": "stream",
     "text": [
      "12\n",
      "11\n",
      "10\n",
      "9\n",
      "8\n",
      "7\n",
      "6\n",
      "5\n",
      "4\n"
     ]
    }
   ],
   "source": [
    "a = int(input(\"A = \"))\n",
    "b = int(input(\"B = \"))\n",
    "\n",
    "for i in range(b-1, a, -1):\n",
    "    print(i)"
   ]
  },
  {
   "cell_type": "markdown",
   "id": "5f02135b-a177-4e10-b1a5-4d99ccd92f3b",
   "metadata": {},
   "source": [
    "### 8. Son berilgan – u 1 kg konfetni narxi. 1, 2, ….. , 10 kg uchun narxni print qiling."
   ]
  },
  {
   "cell_type": "code",
   "execution_count": 17,
   "id": "25092a36-35c3-43cc-a749-792c2c088616",
   "metadata": {},
   "outputs": [
    {
     "name": "stdin",
     "output_type": "stream",
     "text": [
      "Konfet narxini kiriting:  13000\n"
     ]
    },
    {
     "name": "stdout",
     "output_type": "stream",
     "text": [
      "1 kg konfet narxi: 13000\n",
      "2 kg konfet narxi: 26000\n",
      "3 kg konfet narxi: 39000\n",
      "4 kg konfet narxi: 52000\n",
      "5 kg konfet narxi: 65000\n",
      "6 kg konfet narxi: 78000\n",
      "7 kg konfet narxi: 91000\n",
      "8 kg konfet narxi: 104000\n",
      "9 kg konfet narxi: 117000\n",
      "10 kg konfet narxi: 130000\n"
     ]
    }
   ],
   "source": [
    "son = int(input(\"Konfet narxini kiriting: \"))\n",
    "\n",
    "for i in range(1, 11):\n",
    "    print(f\"{i} kg konfet narxi: {son * i}\")"
   ]
  },
  {
   "cell_type": "markdown",
   "id": "4caa5a87-8825-46e1-8238-8b0c7d4f8851",
   "metadata": {},
   "source": [
    "### 9. Son berilgan – u 1 kg konfet narxi . 0.1, 0.2, …. , 1 kg uchun narxniprint qiling."
   ]
  },
  {
   "cell_type": "code",
   "execution_count": 19,
   "id": "8adf14ad-3193-4181-9100-94c8d7895907",
   "metadata": {},
   "outputs": [
    {
     "name": "stdin",
     "output_type": "stream",
     "text": [
      "Konfet narxini kiriting:  12000\n"
     ]
    },
    {
     "name": "stdout",
     "output_type": "stream",
     "text": [
      "0.1 kg konfet narxi: 1200.0\n",
      "0.2 kg konfet narxi: 2400.0\n",
      "0.3 kg konfet narxi: 3600.0\n",
      "0.4 kg konfet narxi: 4800.0\n",
      "0.5 kg konfet narxi: 6000.0\n",
      "0.6 kg konfet narxi: 7200.0\n",
      "0.7 kg konfet narxi: 8400.0\n",
      "0.8 kg konfet narxi: 9600.0\n",
      "0.9 kg konfet narxi: 10800.0\n",
      "1.0 kg konfet narxi: 12000.0\n"
     ]
    }
   ],
   "source": [
    "son = int(input(\"Konfet narxini kiriting: \"))\n",
    "\n",
    "for i in range(1, 11):\n",
    "    print(f\"{i/10} kg konfet narxi: {son * i/10}\")"
   ]
  },
  {
   "cell_type": "markdown",
   "id": "cde21c09-13fe-4163-b0a8-d2074bb57b75",
   "metadata": {},
   "source": [
    "### 10. Butun sonlar berilgan A va B (A < B). A va B oralig’idagi butun sonlar kvadratini va ularning yig’indisini print qiling. A va B ham bu oraliqga kirsin. Masalan: 1, 2, 3 -> 1, 4, 9 -> 14"
   ]
  },
  {
   "cell_type": "code",
   "execution_count": 3,
   "id": "82715437-f90c-4ff0-b4f4-bf28c19e3356",
   "metadata": {},
   "outputs": [
    {
     "name": "stdin",
     "output_type": "stream",
     "text": [
      "A =  2\n",
      "B =  6\n"
     ]
    },
    {
     "name": "stdout",
     "output_type": "stream",
     "text": [
      "2 ning kvadrati 4\n",
      "3 ning kvadrati 9\n",
      "4 ning kvadrati 16\n",
      "5 ning kvadrati 25\n",
      "54\n"
     ]
    }
   ],
   "source": [
    "a = int(input(\"A = \"))\n",
    "b = int(input(\"B = \"))\n",
    "\n",
    "sum = 0\n",
    "\n",
    "for i in range(a, b):\n",
    "    print(f\"{i} ning kvadrati {i**2}\")\n",
    "    sum += i**2\n",
    "print(sum)"
   ]
  },
  {
   "cell_type": "markdown",
   "id": "c0661680-aef4-4c8b-8658-3b4533cf7320",
   "metadata": {},
   "source": [
    "### 11. Butun son berilgan A va N (N >0). Sikldan foydalangan holda A ni 1 – N bolgan darajasini print qililar"
   ]
  },
  {
   "cell_type": "code",
   "execution_count": 5,
   "id": "ec1ddf72-3065-448d-98dc-a1e253cfe130",
   "metadata": {},
   "outputs": [
    {
     "name": "stdin",
     "output_type": "stream",
     "text": [
      "a =  2\n",
      "n =  6\n"
     ]
    },
    {
     "name": "stdout",
     "output_type": "stream",
     "text": [
      "2 ning 1 - darajasi: 2\n",
      "2 ning 2 - darajasi: 4\n",
      "2 ning 3 - darajasi: 8\n",
      "2 ning 4 - darajasi: 16\n",
      "2 ning 5 - darajasi: 32\n"
     ]
    }
   ],
   "source": [
    "a = int(input('a = '))\n",
    "n = int(input('n = '))\n",
    "        \n",
    "for i in range(1, n):\n",
    "    print(f\"{a} ning {i} - darajasi: {a**i}\")"
   ]
  },
  {
   "cell_type": "markdown",
   "id": "b628ee70-193b-4f05-bad1-df73da5b1e87",
   "metadata": {},
   "source": [
    "### 12. Butun son berilgan N (N > 0). 1 – N gacha bolgan sonlar kopaytmasini toping."
   ]
  },
  {
   "cell_type": "code",
   "execution_count": 6,
   "id": "9c25b71b-a26b-434e-a578-e734e9189a7f",
   "metadata": {},
   "outputs": [
    {
     "name": "stdin",
     "output_type": "stream",
     "text": [
      "n =  5\n"
     ]
    },
    {
     "name": "stdout",
     "output_type": "stream",
     "text": [
      "120\n"
     ]
    }
   ],
   "source": [
    "n = int(input('n = '))\n",
    "\n",
    "k = 1\n",
    "\n",
    "for i in range(1, n+1):\n",
    "    k *= i\n",
    "print(k)   "
   ]
  }
 ],
 "metadata": {
  "kernelspec": {
   "display_name": "Python 3 (ipykernel)",
   "language": "python",
   "name": "python3"
  },
  "language_info": {
   "codemirror_mode": {
    "name": "ipython",
    "version": 3
   },
   "file_extension": ".py",
   "mimetype": "text/x-python",
   "name": "python",
   "nbconvert_exporter": "python",
   "pygments_lexer": "ipython3",
   "version": "3.9.7"
  }
 },
 "nbformat": 4,
 "nbformat_minor": 5
}
