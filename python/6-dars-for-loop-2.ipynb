{
 "cells": [
  {
   "cell_type": "markdown",
   "id": "ab0437f0-c28c-4015-8d6d-db3b001bcd78",
   "metadata": {},
   "source": [
    "### 1. So’z kiritilgan uni “hello” uni birinchi ikkita harifini yangi o'zgaruvchiga qolgan qismini ikkichi o’zgaruvchiga berib print qiling."
   ]
  },
  {
   "cell_type": "code",
   "execution_count": 7,
   "id": "98faffda-d8f7-40ff-ac7b-fab7920442b2",
   "metadata": {},
   "outputs": [
    {
     "name": "stdin",
     "output_type": "stream",
     "text": [
      "So'z kiriting:  hello\n"
     ]
    },
    {
     "name": "stdout",
     "output_type": "stream",
     "text": [
      "he llo\n"
     ]
    }
   ],
   "source": [
    "soz = input(\"So'z kiriting: \") \n",
    "\n",
    "var1 = soz[:2]\n",
    "var2 = soz[2:]\n",
    "\n",
    "print(var1, var2)"
   ]
  },
  {
   "cell_type": "markdown",
   "id": "1b32d85d-5e74-4c84-96ff-3a4d547365c6",
   "metadata": {},
   "source": [
    "### 2. So’z kiritilgan “hello” uni birinchi va oxirgi hariflarini almashtiring “oellh”."
   ]
  },
  {
   "cell_type": "code",
   "execution_count": 13,
   "id": "789b8c7e-821d-4827-bdf9-2d2e73c851d9",
   "metadata": {},
   "outputs": [
    {
     "name": "stdout",
     "output_type": "stream",
     "text": [
      "oellh\n"
     ]
    }
   ],
   "source": [
    "soz = 'hello'\n",
    "\n",
    "soz = soz[-1] + soz[1:-1] + soz[0]\n",
    "\n",
    "print(soz)    "
   ]
  },
  {
   "cell_type": "markdown",
   "id": "3638251f-98c6-494f-8a6f-962d4ed5ffee",
   "metadata": {},
   "source": [
    "### 3. restart so'zini resta$t holatiga keltiring."
   ]
  },
  {
   "cell_type": "code",
   "execution_count": 12,
   "id": "556aebe2-c2a4-41e9-855d-a9d449ffc6b0",
   "metadata": {},
   "outputs": [
    {
     "name": "stdout",
     "output_type": "stream",
     "text": [
      "resta$t\n"
     ]
    }
   ],
   "source": [
    "soz = 'restart'\n",
    "\n",
    "soz = soz[:5] + \"$\" + soz[6:]\n",
    "        \n",
    "print(soz)"
   ]
  },
  {
   "cell_type": "markdown",
   "id": "618574fc-ba39-47c3-a447-90c8eae67885",
   "metadata": {},
   "source": [
    "### 4. 'abc', 'xyz' ikkita string berilgan uni 'xyc abz' shu holatga keltirish kerak."
   ]
  },
  {
   "cell_type": "code",
   "execution_count": 19,
   "id": "f473f4db-0ec6-4c6a-a264-720bcddbce6a",
   "metadata": {},
   "outputs": [
    {
     "name": "stdout",
     "output_type": "stream",
     "text": [
      "xyc abz\n"
     ]
    }
   ],
   "source": [
    "str1 = 'abc'\n",
    "str2 = 'xyz'\n",
    "\n",
    "res = str2[:2] + str1[-1] + ' ' + str1[:2] + str2[-1]\n",
    "print(res)"
   ]
  },
  {
   "cell_type": "markdown",
   "id": "49012062-54eb-4375-af56-5e9b4699d27f",
   "metadata": {},
   "source": [
    "### 5. So’z kiritaman va istalgan son kiritaman shu sondagi indexdagi belgini ochirib sozni chiqarsin."
   ]
  },
  {
   "cell_type": "code",
   "execution_count": 22,
   "id": "d57bbe35-4e8a-4b4e-ae44-1efb03273a4b",
   "metadata": {},
   "outputs": [
    {
     "name": "stdin",
     "output_type": "stream",
     "text": [
      "So'z kiriting:  salom\n"
     ]
    },
    {
     "name": "stdout",
     "output_type": "stream",
     "text": [
      "0-5 oralig'idagi son kiriting: \n"
     ]
    },
    {
     "name": "stdin",
     "output_type": "stream",
     "text": [
      " 1\n"
     ]
    },
    {
     "name": "stdout",
     "output_type": "stream",
     "text": [
      "slom\n"
     ]
    }
   ],
   "source": [
    "soz = input(\"So'z kiriting: \")\n",
    "print(f\"0-{len(soz)} oralig'idagi son kiriting: \")\n",
    "son = int(input())\n",
    "\n",
    "soz = soz[:son] + soz[son+1:]\n",
    "print(soz)"
   ]
  },
  {
   "cell_type": "markdown",
   "id": "7e2aee86-fab5-47b7-b427-f7efff346eb0",
   "metadata": {},
   "source": [
    "### 6. So’z kiritilgan kichik hariflar bilan uni boshi va oxirini katta xarif qilib so’zni print qilin."
   ]
  },
  {
   "cell_type": "code",
   "execution_count": 23,
   "id": "48595fe1-740e-46c7-b8af-ab6bef2e4c68",
   "metadata": {},
   "outputs": [
    {
     "name": "stdin",
     "output_type": "stream",
     "text": [
      "So'z kiriting:  maxammadsoliyev u\n"
     ]
    },
    {
     "name": "stdout",
     "output_type": "stream",
     "text": [
      "Maxammadsoliyev U\n"
     ]
    }
   ],
   "source": [
    "soz = input(\"So'z kiriting: \")\n",
    "\n",
    "soz = soz[0].upper() + soz[1:-1] + soz[-1].upper()\n",
    "print(soz)"
   ]
  },
  {
   "cell_type": "markdown",
   "id": "8139405f-a24e-43b7-b2d7-6b69fd23ed25",
   "metadata": {},
   "source": [
    "### 7. So’z kiritilgan katta va kichi hariflar bilan. Katta harifni kichikga, kichik katta ozgartirib print qiling."
   ]
  },
  {
   "cell_type": "code",
   "execution_count": 24,
   "id": "693f91f4-2a43-49c6-8540-21e2317350ef",
   "metadata": {},
   "outputs": [
    {
     "name": "stdin",
     "output_type": "stream",
     "text": [
      "So'z kiriting:  MAxaMmAdsoLiyEV\n"
     ]
    },
    {
     "name": "stdout",
     "output_type": "stream",
     "text": [
      "maXAmMaDSOlIYev\n"
     ]
    }
   ],
   "source": [
    "soz = input(\"So'z kiriting: \")\n",
    "\n",
    "for i in range(len(soz)):\n",
    "    if soz[i].isupper():\n",
    "        soz = soz[:i] + soz[i].lower() + soz[i+1:]\n",
    "    elif soz[i].islower():\n",
    "        soz = soz[:i] + soz[i].upper() + soz[i+1:]\n",
    "        \n",
    "print(soz)"
   ]
  },
  {
   "cell_type": "markdown",
   "id": "8dde39e5-8c08-421c-8051-7115f4a978c3",
   "metadata": {},
   "source": [
    "### 8. So’z kiritilgan uni birinchi harifi “S” oxirgisi esa “R” ekanligni aniqlang."
   ]
  },
  {
   "cell_type": "code",
   "execution_count": 27,
   "id": "b70e5adc-6733-431b-aa73-6cfb421cec79",
   "metadata": {},
   "outputs": [
    {
     "name": "stdin",
     "output_type": "stream",
     "text": [
      "So'z kiriting:  SattoR\n"
     ]
    },
    {
     "name": "stdout",
     "output_type": "stream",
     "text": [
      "Kiritilgan so'zning birinchi harifi “S” oxirgisi esa “R” \n"
     ]
    }
   ],
   "source": [
    "soz = input(\"So'z kiriting: \")\n",
    "\n",
    "if soz[0] == \"S\" and soz[-1] == \"R\":\n",
    "    print(\"Kiritilgan so'zning birinchi harifi “S” oxirgisi esa “R” \")"
   ]
  },
  {
   "cell_type": "markdown",
   "id": "d699bb9b-5549-4336-be65-33415dc997c1",
   "metadata": {},
   "source": [
    "### 9. So’z kiritilgan uni birinchi harifi “S” oxirgisi esa “R” teng emasligini aniqlang"
   ]
  },
  {
   "cell_type": "code",
   "execution_count": 28,
   "id": "5f3cb008-b3c7-4377-ac63-57a4d9d4962b",
   "metadata": {},
   "outputs": [
    {
     "name": "stdin",
     "output_type": "stream",
     "text": [
      "So'z kiriting:  assdfgfhhggsdfghjgfdsgh\n"
     ]
    },
    {
     "name": "stdout",
     "output_type": "stream",
     "text": [
      "Kiritilgan so'zning birinchi harifi “S” oxirgisi esa “R” emas\n"
     ]
    }
   ],
   "source": [
    "soz = input(\"So'z kiriting: \")\n",
    "\n",
    "if soz[0] != \"S\" and soz[-1] != \"R\":\n",
    "    print(\"Kiritilgan so'zning birinchi harifi “S” oxirgisi esa “R” emas\")"
   ]
  }
 ],
 "metadata": {
  "kernelspec": {
   "display_name": "Python 3 (ipykernel)",
   "language": "python",
   "name": "python3"
  },
  "language_info": {
   "codemirror_mode": {
    "name": "ipython",
    "version": 3
   },
   "file_extension": ".py",
   "mimetype": "text/x-python",
   "name": "python",
   "nbconvert_exporter": "python",
   "pygments_lexer": "ipython3",
   "version": "3.9.7"
  }
 },
 "nbformat": 4,
 "nbformat_minor": 5
}
