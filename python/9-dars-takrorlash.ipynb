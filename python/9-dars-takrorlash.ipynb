{
 "cells": [
  {
   "cell_type": "markdown",
   "source": [
    "# Funksiya"
   ],
   "metadata": {
    "collapsed": false,
    "pycharm": {
     "name": "#%% md\n"
    }
   }
  },
  {
   "cell_type": "code",
   "execution_count": 2,
   "outputs": [
    {
     "name": "stdout",
     "output_type": "stream",
     "text": [
      "Hello world!\n"
     ]
    }
   ],
   "source": [
    "def first_func():\n",
    "    print(\"Hello world!\")\n",
    "\n",
    "\n",
    "first_func()"
   ],
   "metadata": {
    "collapsed": false,
    "pycharm": {
     "name": "#%%\n"
    }
   }
  },
  {
   "cell_type": "code",
   "execution_count": 4,
   "outputs": [
    {
     "name": "stdout",
     "output_type": "stream",
     "text": [
      "Good bye world!\n"
     ]
    }
   ],
   "source": [
    "def bye_func():\n",
    "    print(\"Good bye world!\")\n",
    "\n",
    "\n",
    "bye_func()"
   ],
   "metadata": {
    "collapsed": false,
    "pycharm": {
     "name": "#%%\n"
    }
   }
  },
  {
   "cell_type": "code",
   "execution_count": 7,
   "outputs": [
    {
     "name": "stdout",
     "output_type": "stream",
     "text": [
      "25\n"
     ]
    }
   ],
   "source": [
    "def add(a, b):\n",
    "    return a + b\n",
    "\n",
    "\n",
    "print(add(12, 13))"
   ],
   "metadata": {
    "collapsed": false,
    "pycharm": {
     "name": "#%%\n"
    }
   }
  },
  {
   "cell_type": "code",
   "execution_count": 9,
   "outputs": [
    {
     "name": "stdout",
     "output_type": "stream",
     "text": [
      "('salom', 'hammaga', 'meni', \"qo'llab\")\n"
     ]
    }
   ],
   "source": [
    "def my_func(*kids):\n",
    "    print(kids)\n",
    "\n",
    "\n",
    "my_func('salom', 'hammaga', 'meni', \"qo'llab\")"
   ],
   "metadata": {
    "collapsed": false,
    "pycharm": {
     "name": "#%%\n"
    }
   }
  },
  {
   "cell_type": "code",
   "execution_count": 11,
   "outputs": [
    {
     "name": "stdout",
     "output_type": "stream",
     "text": [
      "{'ism': 'Olim', 'familiya': 'Akbarov', 'yosh': 13}\n"
     ]
    }
   ],
   "source": [
    "def my_func1(**kid):\n",
    "    print(kid)\n",
    "\n",
    "\n",
    "my_func1(ism='Olim', familiya='Akbarov', yosh=13)"
   ],
   "metadata": {
    "collapsed": false,
    "pycharm": {
     "name": "#%%\n"
    }
   }
  },
  {
   "cell_type": "code",
   "execution_count": 12,
   "outputs": [
    {
     "name": "stdout",
     "output_type": "stream",
     "text": [
      "\n",
      "    ism: Umidbek\n",
      "    familiya: Maxammadsoliyev\n",
      "    yosh: 19\n",
      "    \n"
     ]
    }
   ],
   "source": [
    "def user_data(first_name, last_name, age):\n",
    "    print(f\"\"\"\n",
    "    ism: {first_name}\n",
    "    familiya: {last_name}\n",
    "    yosh: {age}\n",
    "    \"\"\")\n",
    "\n",
    "\n",
    "user_data('Umidbek', \"Maxammadsoliyev\", 19)"
   ],
   "metadata": {
    "collapsed": false,
    "pycharm": {
     "name": "#%%\n"
    }
   }
  },
  {
   "cell_type": "code",
   "execution_count": 34,
   "outputs": [
    {
     "name": "stdout",
     "output_type": "stream",
     "text": [
      "{'aprel': 15000}\n"
     ]
    }
   ],
   "source": [
    "def big_sales(sales):\n",
    "    my_max = max(sales.values())\n",
    "    i = list(sales.values()).index(my_max)\n",
    "    key = list(sales.keys())[i]\n",
    "    return {key: my_max}\n",
    "\n",
    "\n",
    "sales1 = {\n",
    "    \"yanvar\": 12000,\n",
    "    \"mart\": 6000,\n",
    "    \"aprel\": 15000,\n",
    "    \"sentabr\": 9000,\n",
    "    \"dekabr\": 10000,\n",
    "}\n",
    "\n",
    "print(big_sales(sales1))"
   ],
   "metadata": {
    "collapsed": false,
    "pycharm": {
     "name": "#%%\n"
    }
   }
  },
  {
   "cell_type": "markdown",
   "source": [],
   "metadata": {
    "collapsed": false
   }
  },
  {
   "cell_type": "markdown",
   "source": [
    "### So'z berilgan \"d!v!l@p!r\" -> \"developer\" korinishiga o'tkazing."
   ],
   "metadata": {
    "collapsed": false,
    "pycharm": {
     "name": "#%% md\n"
    }
   }
  },
  {
   "cell_type": "code",
   "execution_count": null,
   "outputs": [],
   "source": [],
   "metadata": {
    "collapsed": false,
    "pycharm": {
     "name": "#%%\n"
    }
   }
  }
 ],
 "metadata": {
  "kernelspec": {
   "display_name": "Python 3",
   "language": "python",
   "name": "python3"
  },
  "language_info": {
   "codemirror_mode": {
    "name": "ipython",
    "version": 2
   },
   "file_extension": ".py",
   "mimetype": "text/x-python",
   "name": "python",
   "nbconvert_exporter": "python",
   "pygments_lexer": "ipython2",
   "version": "2.7.6"
  }
 },
 "nbformat": 4,
 "nbformat_minor": 0
}