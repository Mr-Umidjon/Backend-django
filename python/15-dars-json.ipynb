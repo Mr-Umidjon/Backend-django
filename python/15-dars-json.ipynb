{
 "cells": [
  {
   "cell_type": "markdown",
   "metadata": {
    "collapsed": true,
    "pycharm": {
     "name": "#%% md\n"
    }
   },
   "source": [
    "### Ushbu o'zgaruvchini JSON ko'rinishida saqlang va JSON matnini konsolga chiqaring:\n",
    "### data = {\"Model\" : \"Malibu\", \"Rang\" : \"Qora\", \"Yil\":2020, \"Narh\":40000}"
   ]
  },
  {
   "cell_type": "code",
   "execution_count": 35,
   "outputs": [
    {
     "name": "stdout",
     "output_type": "stream",
     "text": [
      "('{\\n'\n",
      " '    \"Model\": \"Malibu\",\\n'\n",
      " '    \"Rang\": \"Qora\",\\n'\n",
      " '    \"Yil\": 2020,\\n'\n",
      " '    \"Narh\": 40000\\n'\n",
      " '}')\n",
      "<class 'str'>\n"
     ]
    }
   ],
   "source": [
    "import json\n",
    "data = {\"Model\": \"Malibu\", \"Rang\":\"Qora\", \"Yil\":2020, \"Narh\":40000}\n",
    "json_data = json.dumps(data, indent=4)\n",
    "print(json_data)\n",
    "print(type(json_data))"
   ],
   "metadata": {
    "collapsed": false,
    "pycharm": {
     "name": "#%%\n"
    }
   }
  },
  {
   "cell_type": "markdown",
   "source": [
    "### Ushbu JSON matnni ko'chirib oling, va talabaning ismi va familiyasini  konsolga chiqaring:\n",
    "### talaba_json = \"\"\"{\"ism\":\"Hasan\",\"familiya\":\"Husanov\",\"tyil\":2000}\"\"\""
   ],
   "metadata": {
    "collapsed": false,
    "pycharm": {
     "name": "#%% md\n"
    }
   }
  },
  {
   "cell_type": "code",
   "execution_count": 6,
   "outputs": [
    {
     "name": "stdout",
     "output_type": "stream",
     "text": [
      "ism: Hasan\n",
      "familiya:Husanov\n"
     ]
    }
   ],
   "source": [
    "import json\n",
    "\n",
    "talaba_json = \"\"\"{\"ism\":\"Hasan\",\"familiya\":\"Husanov\",\"tyil\":2000}\"\"\"\n",
    "\n",
    "talaba = json.loads(talaba_json)\n",
    "print(f\"ism: {talaba['ism']}\\nfamiliya:{talaba['familiya']}\")"
   ],
   "metadata": {
    "collapsed": false,
    "pycharm": {
     "name": "#%%\n"
    }
   }
  },
  {
   "cell_type": "markdown",
   "source": [
    "### Yuqoridagi ikki o'zgaruvchini alohida JSON fayllarga saqlang."
   ],
   "metadata": {
    "collapsed": false,
    "pycharm": {
     "name": "#%% md\n"
    }
   }
  },
  {
   "cell_type": "code",
   "execution_count": 8,
   "outputs": [],
   "source": [
    "import json\n",
    "with open(\"15-json1.json\", \"w\") as f1:\n",
    "    json.dump(data, f1)\n",
    "\n",
    "\n",
    "with open(\"15-json2.json\", \"w\") as f2:\n",
    "    json.dump(talaba, f2)"
   ],
   "metadata": {
    "collapsed": false,
    "pycharm": {
     "name": "#%%\n"
    }
   }
  },
  {
   "cell_type": "markdown",
   "source": [
    "### Quyidagi JSON faylni yuklab oling. Faylda 3 ta talabaning ism va familiyasi saqlangan.\n",
    "### Ularning har birini alohida qatordan \"Ism Familiya, n-kurs, Fakultet talabasi\" ko'rinishida konsolga chiqaring."
   ],
   "metadata": {
    "collapsed": false,
    "pycharm": {
     "name": "#%% md\n"
    }
   }
  },
  {
   "cell_type": "code",
   "execution_count": 16,
   "outputs": [
    {
     "name": "stdout",
     "output_type": "stream",
     "text": [
      "Tom Price, 4 - kurs, Engineering talabasi\n",
      "Nick Thameson, 3 - kurs, Computer Science talabasi\n",
      "John Doe, 2 - kurs, ICT talabasi\n"
     ]
    }
   ],
   "source": [
    "import json\n",
    "\n",
    "with open(\"15-students.json\", 'r') as f:\n",
    "    students = json.load(f)\n",
    "for student in students['student']:\n",
    "    print(f\"{student['name']} {student['lastname']}, {student['year']} - kurs, {student['faculty']} talabasi\")"
   ],
   "metadata": {
    "collapsed": false,
    "pycharm": {
     "name": "#%%\n"
    }
   }
  },
  {
   "cell_type": "markdown",
   "source": [
    "### Quyidagi bog'lamaga kirsangiz, Wikipediadagi Python dasturlash tili haqidagi maqolani JSON ko'rinishida ko'rishingiz mumkin.\n",
    "### Brauzerda chiqqan ma'lumotni JSON ko'rinishida saqlang (brauzerda Ctrl+S tugmasini bosib).\n",
    "### Faylni Pythonda oching va konsolga maqolaning sarlavhasi (title) va qisqa matnini (extract) chiqaring:\n",
    "### https://uz.wikipedia.org/w/api.php?format=json&action=query&prop=extracts&exintro&explaintext&redirects=1&titles=Python"
   ],
   "metadata": {
    "collapsed": false,
    "pycharm": {
     "name": "#%% md\n"
    }
   }
  },
  {
   "cell_type": "code",
   "execution_count": 34,
   "outputs": [
    {
     "name": "stdout",
     "output_type": "stream",
     "text": [
      "'Python'\n",
      "('Python ([ˈpʌɪθ(ə)n] - payton, piton) — bu turli sohalar uchun yuqori '\n",
      " 'darajadagi umumiy maqsadli dasturlash tili hisoblanadi. Uning dizayn '\n",
      " 'falsafasi muhim chekinishdan foydalangan holda kodning oʻqilishiga urgʻu '\n",
      " 'beradi. Uning til konstruksiyalari va obyektga yoʻnaltirilgan yondashuvi '\n",
      " 'dasturchilarga kichik va yirik loyihalar uchun aniq, mantiqiy kod yozishda '\n",
      " 'yordam berishga qaratilgan. Shuningdek Python sunʼiy intellekt hamda '\n",
      " 'maʼlumotlar muhandisiligi sohalarining tili hisoblanadi.\\n'\n",
      " 'Python deyarli barcha platformalarda ishlay oladi, xususan Windows, Linux, '\n",
      " 'Mac OS X, Palm OS, Mac OS va boshqalar shular jumlasidandir. Python '\n",
      " 'Microsoft.NET platformasi uchun yozilgan realizatsiyasi ham mavjud boʻlib, '\n",
      " 'uning nomi — IronPython dasturlash muhitidir.\\n'\n",
      " 'Guido van Rossum 1980-yillarning oxirida ABC dasturlash tilining davomchisi '\n",
      " 'sifatida Python ustida ishlay boshladi va birinchi marta 1991-yilda Python '\n",
      " '0.9.0 versiyasini ommaga eʼlon qildi.\\n'\n",
      " 'Python dasturlash tiliga boʻlgan talab yildan yilga oshib bormoqda. '\n",
      " 'CodingDojo portalining tadqiqotlariga koʻra, 2020-2021-yillarda aynan Python '\n",
      " 'tilida dasturlovchi mutaxassislarga eng koʻp talab boʻlgan.')\n"
     ]
    }
   ],
   "source": [
    "import json\n",
    "# from pprint import pprint as print\n",
    "\n",
    "with open(\"15-api-result.json\", 'r') as f:\n",
    "    result = json.load(f)\n",
    "print(result['query']['pages']['13801']['title'])\n",
    "print(result['query']['pages']['13801']['extract'])"
   ],
   "metadata": {
    "collapsed": false,
    "pycharm": {
     "name": "#%%\n"
    }
   }
  },
  {
   "cell_type": "code",
   "execution_count": null,
   "outputs": [],
   "source": [],
   "metadata": {
    "collapsed": false,
    "pycharm": {
     "name": "#%%\n"
    }
   }
  }
 ],
 "metadata": {
  "kernelspec": {
   "display_name": "Python 3",
   "language": "python",
   "name": "python3"
  },
  "language_info": {
   "codemirror_mode": {
    "name": "ipython",
    "version": 2
   },
   "file_extension": ".py",
   "mimetype": "text/x-python",
   "name": "python",
   "nbconvert_exporter": "python",
   "pygments_lexer": "ipython2",
   "version": "2.7.6"
  }
 },
 "nbformat": 4,
 "nbformat_minor": 0
}