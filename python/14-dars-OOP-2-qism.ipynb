{
 "cells": [
  {
   "cell_type": "markdown",
   "metadata": {
    "collapsed": true,
    "pycharm": {
     "name": "#%% md\n"
    }
   },
   "source": [
    "### 1. \"Texnika\" parent klass. Konstruktorida esa (brand, model, type) parametrlari bor.\n",
    "###     info() - (brand, model, type) ni print qilib beradi.\n",
    "###\n",
    "###   \"Notebooks\" child klassi bor. Unda konstruktirida qo'shimcha (video_card, ram, display).\n",
    "###     more_info() - (brand, model, type, video_card, ram, display) ni print qilib beradi.\n",
    "###\n",
    "###   \"Televisions\" child klassi bor. Unda konstruktirida (size, display) parametrlari bor.\n",
    "###     more_info() - (brand, model, type, size, display) ni print qilib beradi.\n",
    "###\n",
    "###   \"Smartphones\" child klassi bor. Unda konstruktirida (size, sim_count) parametrlari bor.\n",
    "###     more_info() - (brand, model, type, size, sim_count) ni print qilib beradi."
   ]
  },
  {
   "cell_type": "code",
   "execution_count": 1,
   "outputs": [
    {
     "name": "stdout",
     "output_type": "stream",
     "text": [
      "brand: REDMI\n",
      "model: Redmi 9\n",
      "type: Phone\n"
     ]
    }
   ],
   "source": [
    "class Texnika:\n",
    "    def __init__(self, brand, model, type):\n",
    "        self.brand = brand\n",
    "        self.model = model\n",
    "        self.type = type\n",
    "\n",
    "    def info(self):\n",
    "        print(f\"brand: {self.brand}\\n\"\n",
    "              f\"model: {self.model}\\n\"\n",
    "              f\"type: {self.type}\")\n",
    "\n",
    "\n",
    "texnika = Texnika(\"REDMI\", \"Redmi 9\", 'Phone')\n",
    "texnika.info()"
   ],
   "metadata": {
    "collapsed": false,
    "pycharm": {
     "name": "#%%\n"
    }
   }
  },
  {
   "cell_type": "code",
   "execution_count": 2,
   "outputs": [
    {
     "name": "stdout",
     "output_type": "stream",
     "text": [
      "brand: HP\n",
      "model: Pavilion\n",
      "type: PC\n",
      "video card: RTX\n",
      "ram: 8 GB\n",
      "display: 15.6\n"
     ]
    }
   ],
   "source": [
    "class Notebooks(Texnika):\n",
    "    def __init__(self, brand, model, type, video_card, ram, display):\n",
    "        super().__init__(brand, model, type)\n",
    "        self.video_card = video_card\n",
    "        self.ram = ram\n",
    "        self.display = display\n",
    "\n",
    "    def more_info(self):\n",
    "        print(f\"brand: {self.brand}\\n\"\n",
    "              f\"model: {self.model}\\n\"\n",
    "              f\"type: {self.type}\\n\"\n",
    "              f\"video card: {self.video_card}\\n\"\n",
    "              f\"ram: {self.ram}\\n\"\n",
    "              f\"display: {self.display}\")\n",
    "\n",
    "\n",
    "pc = Notebooks(\"HP\", \"Pavilion\", \"PC\", 'RTX', \"8 GB\", \"15.6\")\n",
    "pc.more_info()"
   ],
   "metadata": {
    "collapsed": false,
    "pycharm": {
     "name": "#%%\n"
    }
   }
  },
  {
   "cell_type": "code",
   "execution_count": 4,
   "outputs": [
    {
     "name": "stdout",
     "output_type": "stream",
     "text": [
      "brand: Samsung\n",
      "model: SmartTv\n",
      "type: Smart\n",
      "size: 45\n",
      "display: 35.6\n"
     ]
    }
   ],
   "source": [
    "class Televisions(Texnika):\n",
    "    def __init__(self, brand, model, type, size, display):\n",
    "        super().__init__(brand, model, type)\n",
    "        self.size = size\n",
    "        self.display = display\n",
    "\n",
    "    def more_info(self):\n",
    "        print(f\"brand: {self.brand}\\n\"\n",
    "              f\"model: {self.model}\\n\"\n",
    "              f\"type: {self.type}\\n\"\n",
    "              f\"size: {self.size}\\n\"\n",
    "              f\"display: {self.display}\")\n",
    "\n",
    "\n",
    "tv = Televisions(\"Samsung\", \"SmartTv\", \"Smart\", \"45\", \"35.6\")\n",
    "tv.more_info()"
   ],
   "metadata": {
    "collapsed": false,
    "pycharm": {
     "name": "#%%\n"
    }
   }
  },
  {
   "cell_type": "code",
   "execution_count": 5,
   "outputs": [
    {
     "name": "stdout",
     "output_type": "stream",
     "text": [
      "brand: Redmi\n",
      "model: Redmi 9\n",
      "type: Smartphone\n",
      "size: 32 GB\n",
      "sim count: 2\n",
      "\n",
      "brand: Redmi\n",
      "model: Redmi 9\n",
      "type: Smartphone\n"
     ]
    }
   ],
   "source": [
    "class Smartphones(Texnika):\n",
    "    def __init__(self, brand, model, type, size, sim_count):\n",
    "        super().__init__(brand, model, type)\n",
    "        self.size = size\n",
    "        self.sim_count = sim_count\n",
    "\n",
    "    def more_info(self):\n",
    "        print(f\"brand: {self.brand}\\n\"\n",
    "              f\"model: {self.model}\\n\"\n",
    "              f\"type: {self.type}\\n\"\n",
    "              f\"size: {self.size}\\n\"\n",
    "              f\"sim count: {self.sim_count}\\n\")\n",
    "\n",
    "\n",
    "phone = Smartphones(\"Redmi\", \"Redmi 9\", \"Smartphone\", \"32 GB\", \"2\")\n",
    "phone.more_info()\n",
    "phone.info()"
   ],
   "metadata": {
    "collapsed": false,
    "pycharm": {
     "name": "#%%\n"
    }
   }
  },
  {
   "cell_type": "markdown",
   "source": [
    "### 2. \"Transport\" parent klass. Konstruktorida esa (brand, model, type) parametrlari bor.\n",
    "###     info() - (brand, model, type) ni print qilib beradi.\n",
    "###\n",
    "###   \"ElentroCars\" - child klassi bor. Unda konstruktirida qo'shimcha (battery_life, chargin_time).\n",
    "###     more_info() - (brand, model, type, battery_life, chargin_time) ni print qilib beradi.\n",
    "###\n",
    "###   \"SportCars\" - child klassi bor. Unda konstruktirida qo'shimcha (motor, color).\n",
    "###     more_info() - (brand, model, type, motor, color) ni print qilib beradi.\n",
    "###\n",
    "###   \"Truck\" - child klassi bor. Unda konstruktirida qo'shimcha (motor, height, long, wieght).\n",
    "###     more_info() - (brand, model, type, height, long, wieght) ni print qilib beradi."
   ],
   "metadata": {
    "collapsed": false,
    "pycharm": {
     "name": "#%% md\n"
    }
   }
  },
  {
   "cell_type": "code",
   "execution_count": 6,
   "outputs": [
    {
     "name": "stdout",
     "output_type": "stream",
     "text": [
      "brand: GM\n",
      "model: Nexia 3\n",
      "type: Yengil\n",
      "\n"
     ]
    }
   ],
   "source": [
    "class Transport:\n",
    "    def __init__(self, brand, model, type):\n",
    "        self.brand = brand\n",
    "        self.model = model\n",
    "        self.type = type\n",
    "\n",
    "    def info(self):\n",
    "        print(f\"brand: {self.brand}\\n\"\n",
    "              f\"model: {self.model}\\n\"\n",
    "              f\"type: {self.type}\\n\")\n",
    "\n",
    "\n",
    "transport = Transport(\"GM\", 'Nexia 3', 'Yengil')\n",
    "transport.info()"
   ],
   "metadata": {
    "collapsed": false,
    "pycharm": {
     "name": "#%%\n"
    }
   }
  },
  {
   "cell_type": "code",
   "execution_count": 7,
   "outputs": [
    {
     "name": "stdout",
     "output_type": "stream",
     "text": [
      "brand: Tesla\n",
      "model: UMS\n",
      "type: Electro\n",
      "battery life: 450 km\n",
      "chargin time: 12 hours\n",
      "\n"
     ]
    }
   ],
   "source": [
    "class ElentroCars(Transport):\n",
    "    def __init__(self, brand, model, type, battery_life, chargin_time):\n",
    "        super().__init__(brand, model, type)\n",
    "        self.battery_life = battery_life\n",
    "        self.chargin_time = chargin_time\n",
    "\n",
    "    def more_info(self):\n",
    "        print(f\"brand: {self.brand}\\n\"\n",
    "              f\"model: {self.model}\\n\"\n",
    "              f\"type: {self.type}\\n\"\n",
    "              f\"battery life: {self.battery_life}\\n\"\n",
    "              f\"chargin time: {self.chargin_time}\\n\")\n",
    "\n",
    "\n",
    "elentrocars = ElentroCars(\"Tesla\", \"UMS\", \"Electro\", \"450 km\", \"12 hours\")\n",
    "elentrocars.more_info()"
   ],
   "metadata": {
    "collapsed": false,
    "pycharm": {
     "name": "#%%\n"
    }
   }
  },
  {
   "cell_type": "code",
   "execution_count": 8,
   "outputs": [
    {
     "name": "stdout",
     "output_type": "stream",
     "text": [
      "brand: Ferrari\n",
      "model: Bens\n",
      "type: Sportcar\n",
      "motor: 3450 k\n",
      "color: red\n",
      "\n"
     ]
    }
   ],
   "source": [
    "class SportCars(Transport):\n",
    "    def __init__(self, brand, model, type, motor, color):\n",
    "        super().__init__(brand, model, type)\n",
    "        self.motor = motor\n",
    "        self.color = color\n",
    "\n",
    "    def more_info(self):\n",
    "        print(f\"brand: {self.brand}\\n\"\n",
    "              f\"model: {self.model}\\n\"\n",
    "              f\"type: {self.type}\\n\"\n",
    "              f\"motor: {self.motor}\\n\"\n",
    "              f\"color: {self.color}\\n\")\n",
    "\n",
    "\n",
    "sportcar = SportCars(\"Ferrari\", \"Bens\", 'Sportcar', \"3450 k\", \"red\")\n",
    "sportcar.more_info()"
   ],
   "metadata": {
    "collapsed": false,
    "pycharm": {
     "name": "#%%\n"
    }
   }
  },
  {
   "cell_type": "code",
   "execution_count": 9,
   "outputs": [
    {
     "name": "stdout",
     "output_type": "stream",
     "text": [
      "brand: MAN\n",
      "model: Isuzi\n",
      "type: Katta\n",
      "motor: 23400\n",
      "height: 23 m\n",
      "long: 6 m\n",
      "wieght: 12 t\n"
     ]
    }
   ],
   "source": [
    "class Truck(Transport):\n",
    "    def __init__(self, brand, model, type, motor, height, long, wieght):\n",
    "        super().__init__(brand, model, type)\n",
    "        self.motor = motor\n",
    "        self.height = height\n",
    "        self.long = long\n",
    "        self.wieght = wieght\n",
    "\n",
    "    def more_info(self):\n",
    "        print(f\"brand: {self.brand}\\n\"\n",
    "              f\"model: {self.model}\\n\"\n",
    "              f\"type: {self.type}\\n\"\n",
    "              f\"motor: {self.motor}\\n\"\n",
    "              f\"height: {self.height}\\n\"\n",
    "              f\"long: {self.long}\\n\"\n",
    "              f\"wieght: {self.wieght}\")\n",
    "\n",
    "\n",
    "truck = Truck(\"MAN\", \"Isuzi\", \"Katta\", \"23400\", \"23 m\", \"6 m\", '12 t')\n",
    "truck.more_info()"
   ],
   "metadata": {
    "collapsed": false,
    "pycharm": {
     "name": "#%%\n"
    }
   }
  },
  {
   "cell_type": "markdown",
   "source": [
    "# 3.1\n",
    "#   \"University\" - parent klass. Konstruktorida esa (university) parametrlari bor.\n",
    "#     info() - (university) ni print qilib beradi.\n",
    "#\n",
    "#   \"Staff\" - child klass. Unda konstruktirida qo'shimcha (first_name, last_name, age) parametrlari bor.\n",
    "#     staff_info() - (university, first_name, last_name, age) ni print qilib beradi.\n",
    "#\n",
    "#   \"Student\" - child klass. U \"Staff\" dan vorislik oladi. Unda konstruktirida qo'shimcha (group) parametrlari bor.\n",
    "#     more_info() - (university, first_name, last_name, age, group) ni print qilib beradi.\n",
    "#\n",
    "#   \"Teacher\" - child klass. U \"Staff\" dan vorislik oladi. Unda konstruktirida qo'shimcha (position, subject) parametrlari bor.\n",
    "#     more_info() - (university, first_name, last_name, position, subject) ni print qilib beradi.\n",
    "#\n",
    "#   \"OtherStaff\" - child klass. U \"Staff\" dan vorislik oladi. Unda konstruktirida qo'shimcha (position) parametrlari bor.\n",
    "#     more_info() - (university, first_name, last_name, position,) ni print qilib beradi."
   ],
   "metadata": {
    "collapsed": false,
    "pycharm": {
     "name": "#%% md\n"
    }
   }
  },
  {
   "cell_type": "code",
   "execution_count": 12,
   "outputs": [
    {
     "name": "stdout",
     "output_type": "stream",
     "text": [
      "University: TUIT\n"
     ]
    }
   ],
   "source": [
    "class University:\n",
    "    def __init__(self, university: str):\n",
    "        self.university = university\n",
    "\n",
    "    def info(self):\n",
    "        print(f\"University: {self.university}\")\n",
    "\n",
    "\n",
    "myunver = University(\"TUIT\")\n",
    "myunver.info()"
   ],
   "metadata": {
    "collapsed": false,
    "pycharm": {
     "name": "#%%\n"
    }
   }
  },
  {
   "cell_type": "code",
   "execution_count": 19,
   "outputs": [
    {
     "name": "stdout",
     "output_type": "stream",
     "text": [
      "University: TUIT\n",
      "First name: Alisher\n",
      "Last name: Usmonov\n",
      "Age: 34\n",
      "\n"
     ]
    }
   ],
   "source": [
    "class Staff(University):\n",
    "    def __init__(self, university: str, first_name: str, last_name: str, age: int):\n",
    "        super().__init__(university)\n",
    "        self.first_name = first_name\n",
    "        self.last_name = last_name\n",
    "        self.age = age\n",
    "\n",
    "    def staff_info(self):\n",
    "        print(f\"University: {self.university}\\n\"\n",
    "              f\"First name: {self.first_name}\\n\"\n",
    "              f\"Last name: {self.last_name}\\n\"\n",
    "              f\"Age: {self.age}\\n\")\n",
    "\n",
    "\n",
    "staff = Staff(\"TUIT\", \"Alisher\", \"Usmonov\", 34)\n",
    "staff.staff_info()"
   ],
   "metadata": {
    "collapsed": false,
    "pycharm": {
     "name": "#%%\n"
    }
   }
  },
  {
   "cell_type": "code",
   "execution_count": 20,
   "outputs": [
    {
     "name": "stdout",
     "output_type": "stream",
     "text": [
      "University: TUIT\n",
      "First name: Umidbek\n",
      "Last name: Maxammadsoliyev\n",
      "Age: 19\n",
      "\n",
      "University: TUIT\n",
      "First name: Umidbek\n",
      "Last name: Maxammadsoliyev\n",
      "Age: 19\n",
      "Group: 210-20\n"
     ]
    }
   ],
   "source": [
    "class Student(Staff):\n",
    "    def __init__(self, university: str, first_name: str, last_name: str, age: int, group: str):\n",
    "        super().__init__(university, first_name, last_name, age)\n",
    "        self.group = group\n",
    "\n",
    "    def more_info(self):\n",
    "        print(f\"University: {self.university}\\n\"\n",
    "              f\"First name: {self.first_name}\\n\"\n",
    "              f\"Last name: {self.last_name}\\n\"\n",
    "              f\"Age: {self.age}\\n\"\n",
    "              f\"Group: {self.group}\")\n",
    "\n",
    "\n",
    "talaba = Student(\"TUIT\", \"Umidbek\", \"Maxammadsoliyev\", 19, '210-20')\n",
    "talaba.staff_info()\n",
    "\n",
    "talaba.more_info()"
   ],
   "metadata": {
    "collapsed": false,
    "pycharm": {
     "name": "#%%\n"
    }
   }
  },
  {
   "cell_type": "code",
   "execution_count": 23,
   "outputs": [
    {
     "name": "stdout",
     "output_type": "stream",
     "text": [
      "University: Astrum\n",
      "First name: Abdulhodiy\n",
      "Last name: Rahmonov\n",
      "Position: Teacher\n",
      "Suject: English\n"
     ]
    }
   ],
   "source": [
    "class Teacher(Staff):\n",
    "    def __init__(self, university: str, first_name: str, last_name: str, age: int, position: str, subject: str):\n",
    "        super().__init__(university, first_name, last_name, age)\n",
    "        self.position = position\n",
    "        self.subject = subject\n",
    "\n",
    "    def more_info(self):\n",
    "        print(f\"University: {self.university}\\n\"\n",
    "              f\"First name: {self.first_name}\\n\"\n",
    "              f\"Last name: {self.last_name}\\n\"\n",
    "              f\"Position: {self.position}\\n\"\n",
    "              f\"Suject: {self.subject}\")\n",
    "\n",
    "\n",
    "teacher = Teacher(\"Astrum\", \"Abdulhodiy\", 'Rahmonov', 24, \"Teacher\", \"English\")\n",
    "teacher.more_info()\n"
   ],
   "metadata": {
    "collapsed": false,
    "pycharm": {
     "name": "#%%\n"
    }
   }
  },
  {
   "cell_type": "code",
   "execution_count": 26,
   "outputs": [
    {
     "name": "stdout",
     "output_type": "stream",
     "text": [
      "University: TUIT\n",
      "First name: Ali\n",
      "Last name: Vali\n",
      "Position: Yugurdak\n",
      "\n"
     ]
    }
   ],
   "source": [
    "class OtherStaff(Staff):\n",
    "    def __init__(self, university: str, first_name: str, last_name: str, age: int, position: str):\n",
    "        super().__init__(university, first_name, last_name, age)\n",
    "        self.position = position\n",
    "\n",
    "    def more_info(self):\n",
    "        print(f\"University: {self.university}\\n\"\n",
    "              f\"First name: {self.first_name}\\n\"\n",
    "              f\"Last name: {self.last_name}\\n\"\n",
    "              f\"Position: {self.position}\\n\")\n",
    "\n",
    "\n",
    "other = OtherStaff(\"TUIT\", \"Ali\", \"Vali\", 12, \"Yugurdak\")\n",
    "\n",
    "other.more_info()"
   ],
   "metadata": {
    "collapsed": false,
    "pycharm": {
     "name": "#%%\n"
    }
   }
  },
  {
   "cell_type": "markdown",
   "source": [
    "### 3.2\n",
    "### \"Object\" - child klass. U \"University\" dan vorislik oladi. Unda konstruktirida qo'shimcha (name) parametrlari bor.\n",
    "###     object_info() - (university, name) ni print qilib beradi.\n",
    "###\n",
    "###   \"Computer\" - child klass. U \"Object\" dan vorislik oladi. Unda konstruktirida qo'shimcha (soni, tizimi, holati) parametrlari bor.\n",
    "###     object_more_info() - (university, name, soni, tizimi, holati) ni print qilib beradi.\n",
    "###\n",
    "###   \"Mebel\" - child klass. U \"Object\" dan vorislik oladi. Unda konstruktirida qo'shimcha (soni, turi, holati) parametrlari bor.\n",
    "###     object_more_info() - (university, name, soni, turi, holati) ni print qilib beradi."
   ],
   "metadata": {
    "collapsed": false,
    "pycharm": {
     "name": "#%% md\n"
    }
   }
  },
  {
   "cell_type": "code",
   "execution_count": 27,
   "outputs": [
    {
     "name": "stdout",
     "output_type": "stream",
     "text": [
      "University: TUIT\n",
      "Name: Maktab\n",
      "\n"
     ]
    }
   ],
   "source": [
    "class Object(University):\n",
    "    def __init__(self, university: str, name: str):\n",
    "        super().__init__(university)\n",
    "        self.name = name\n",
    "\n",
    "    def object_info(self):\n",
    "        print(f\"University: {self.university}\\n\"\n",
    "              f\"Name: {self.name}\\n\")\n",
    "\n",
    "object = Object(\"TUIT\", \"Maktab\")\n",
    "object.object_info()"
   ],
   "metadata": {
    "collapsed": false,
    "pycharm": {
     "name": "#%%\n"
    }
   }
  }
 ],
 "metadata": {
  "kernelspec": {
   "display_name": "Python 3",
   "language": "python",
   "name": "python3"
  },
  "language_info": {
   "codemirror_mode": {
    "name": "ipython",
    "version": 2
   },
   "file_extension": ".py",
   "mimetype": "text/x-python",
   "name": "python",
   "nbconvert_exporter": "python",
   "pygments_lexer": "ipython2",
   "version": "2.7.6"
  }
 },
 "nbformat": 4,
 "nbformat_minor": 0
}