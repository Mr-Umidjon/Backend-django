{
 "cells": [
  {
   "cell_type": "markdown",
   "metadata": {
    "collapsed": true,
    "pycharm": {
     "name": "#%% md\n"
    }
   },
   "source": [
    "### 1. \"Texnika\" parent klass. Konstruktorida esa (brand, model, type) parametrlari bor.\n",
    "###     info() - (brand, model, type) ni print qilib beradi.\n",
    "###\n",
    "###   \"Notebooks\" child klassi bor. Unda konstruktirida qo'shimcha (video_card, ram, display).\n",
    "###     more_info() - (brand, model, type, video_card, ram, display) ni print qilib beradi.\n",
    "###\n",
    "###   \"Televisions\" child klassi bor. Unda konstruktirida (size, display) parametrlari bor.\n",
    "###     more_info() - (brand, model, type, size, display) ni print qilib beradi.\n",
    "###\n",
    "###   \"Smartphones\" child klassi bor. Unda konstruktirida (size, sim_count) parametrlari bor.\n",
    "###     more_info() - (brand, model, type, size, sim_count) ni print qilib beradi."
   ]
  },
  {
   "cell_type": "code",
   "execution_count": 1,
   "outputs": [
    {
     "name": "stdout",
     "output_type": "stream",
     "text": [
      "brand: REDMI\n",
      "model: Redmi 9\n",
      "type: Phone\n"
     ]
    }
   ],
   "source": [
    "class Texnika:\n",
    "    def __init__(self, brand, model, type):\n",
    "        self.brand = brand\n",
    "        self.model = model\n",
    "        self.type = type\n",
    "\n",
    "    def info(self):\n",
    "        print(f\"brand: {self.brand}\\n\"\n",
    "              f\"model: {self.model}\\n\"\n",
    "              f\"type: {self.type}\")\n",
    "\n",
    "\n",
    "texnika = Texnika(\"REDMI\", \"Redmi 9\", 'Phone')\n",
    "texnika.info()"
   ],
   "metadata": {
    "collapsed": false,
    "pycharm": {
     "name": "#%%\n"
    }
   }
  },
  {
   "cell_type": "code",
   "execution_count": 2,
   "outputs": [
    {
     "name": "stdout",
     "output_type": "stream",
     "text": [
      "brand: HP\n",
      "model: Pavilion\n",
      "type: PC\n",
      "video card: RTX\n",
      "ram: 8 GB\n",
      "display: 15.6\n"
     ]
    }
   ],
   "source": [
    "class Notebooks(Texnika):\n",
    "    def __init__(self, brand, model, type, video_card, ram, display):\n",
    "        super().__init__(brand, model, type)\n",
    "        self.video_card = video_card\n",
    "        self.ram = ram\n",
    "        self.display = display\n",
    "\n",
    "    def more_info(self):\n",
    "        print(f\"brand: {self.brand}\\n\"\n",
    "              f\"model: {self.model}\\n\"\n",
    "              f\"type: {self.type}\\n\"\n",
    "              f\"video card: {self.video_card}\\n\"\n",
    "              f\"ram: {self.ram}\\n\"\n",
    "              f\"display: {self.display}\")\n",
    "\n",
    "\n",
    "pc = Notebooks(\"HP\", \"Pavilion\", \"PC\", 'RTX', \"8 GB\", \"15.6\")\n",
    "pc.more_info()"
   ],
   "metadata": {
    "collapsed": false,
    "pycharm": {
     "name": "#%%\n"
    }
   }
  },
  {
   "cell_type": "code",
   "execution_count": null,
   "outputs": [],
   "source": [],
   "metadata": {
    "collapsed": false,
    "pycharm": {
     "name": "#%%\n"
    }
   }
  },
  {
   "cell_type": "code",
   "execution_count": null,
   "outputs": [],
   "source": [],
   "metadata": {
    "collapsed": false,
    "pycharm": {
     "name": "#%%\n"
    }
   }
  }
 ],
 "metadata": {
  "kernelspec": {
   "display_name": "Python 3",
   "language": "python",
   "name": "python3"
  },
  "language_info": {
   "codemirror_mode": {
    "name": "ipython",
    "version": 2
   },
   "file_extension": ".py",
   "mimetype": "text/x-python",
   "name": "python",
   "nbconvert_exporter": "python",
   "pygments_lexer": "ipython2",
   "version": "2.7.6"
  }
 },
 "nbformat": 4,
 "nbformat_minor": 0
}