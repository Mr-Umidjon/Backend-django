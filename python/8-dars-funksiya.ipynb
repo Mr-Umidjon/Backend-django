{
 "cells": [
  {
   "cell_type": "markdown",
   "metadata": {
    "collapsed": true,
    "pycharm": {
     "name": "#%% md\n"
    }
   },
   "source": [
    "### 1. \"user_data\" funksiyasini elon qilasizlar. Funksiyani 3 ta parametri bor (first_name, last_name, age). Input orqalik ism, familiya va yoshni kiritamiz. va bu bu qiymatlarni \"user_data\" funksiyasini chaqirib argumentlariga beramiz. \"user_data\" funksiyasi bu (first_name, last_name, age) o'zgaruvchilarni qiymatini\n",
    "### Ism: Alisher\n",
    "###  Familiya: Olimov\n",
    "### Yosh: 27\n",
    "### ko'rinishiga print qilib bersin."
   ]
  },
  {
   "cell_type": "code",
   "execution_count": 2,
   "outputs": [
    {
     "name": "stdout",
     "output_type": "stream",
     "text": [
      "\n",
      "    Ism: Alisher\n",
      "    Familiya: Olimov\n",
      "    Yosh: 27\n",
      "    \n"
     ]
    }
   ],
   "source": [
    "def user_data(first_name, last_name, age):\n",
    "    print(f\"\"\"\n",
    "    Ism: {first_name}\n",
    "    Familiya: {last_name}\n",
    "    Yosh: {age}\n",
    "    \"\"\")\n",
    "\n",
    "\n",
    "user_data('Alisher', \"Olimov\", 27)"
   ],
   "metadata": {
    "collapsed": false,
    "pycharm": {
     "name": "#%%\n"
    }
   }
  },
  {
   "cell_type": "markdown",
   "source": [
    "### 2. \"find_max\" funksiyasini elon qilasizlar. Funksiyani 3 ta parametri bor (a, b, c). Input orqalik 3 ta son kiritamiz. va bu sonlarni \"find_max\" funksiyasi chaqirib argumentlariga beramiz. \"find_max\" funksiyasini bu (a, b, c) o'zgaruvchilardan eng kattasini topib print qiladi.\n"
   ],
   "metadata": {
    "collapsed": false,
    "pycharm": {
     "name": "#%% md\n"
    }
   }
  },
  {
   "cell_type": "code",
   "execution_count": 4,
   "outputs": [
    {
     "name": "stdout",
     "output_type": "stream",
     "text": [
      "Max: 5\n"
     ]
    }
   ],
   "source": [
    "def find_max(a, b, c):\n",
    "    max = a\n",
    "    if max < b:\n",
    "        max = b\n",
    "    if max < c:\n",
    "        max = c\n",
    "    print(f\"Max: {max}\")\n",
    "\n",
    "\n",
    "find_max(1, 3, 5)"
   ],
   "metadata": {
    "collapsed": false,
    "pycharm": {
     "name": "#%%\n"
    }
   }
  },
  {
   "cell_type": "markdown",
   "source": [
    "### 3. \"find_letter_count\" funksiyasini elon qilasizlar. Funksiyani 2 ta parametri bor (word, letter). Input orqalik so'z kiritamiz, keyin esa shu so'zda qidirmoqchi bolgan so'zimizni kiritamiz. va bu qiymatlarni \"find_letter_count\" funksiyasini chaqirib argumentlariga beramiz.\"find_letter_count\" funksiyasi bu (word, letter) o'garuvchilardan foydalanib\"word\" da \"letter\" nechi martda qatnashganini print qilsin.\n",
    "\n",
    "  ### \"Programing\" so'zida \"r\" dan 2 ta."
   ],
   "metadata": {
    "collapsed": false,
    "pycharm": {
     "name": "#%% md\n"
    }
   }
  },
  {
   "cell_type": "code",
   "execution_count": 6,
   "outputs": [
    {
     "name": "stdout",
     "output_type": "stream",
     "text": [
      "Programming so'zida r dan 2 ta bor.\n"
     ]
    }
   ],
   "source": [
    "def find_letter_count(word, letter):\n",
    "    count = 0\n",
    "    for i in word:\n",
    "        if i == letter:\n",
    "            count += 1\n",
    "    print(f\"{word} so'zida {letter} dan {count} ta bor.\")\n",
    "\n",
    "\n",
    "find_letter_count('Programming', 'r')"
   ],
   "metadata": {
    "collapsed": false,
    "pycharm": {
     "name": "#%%\n"
    }
   }
  },
  {
   "cell_type": "markdown",
   "source": [
    "### 4. \"list_sum\" funksiyasi elon qilasizlar.\n",
    "### Funksiyani 1 ta pametrni bor (myList).\n",
    "### \"myList\" funksiyasini chaqirib unda argumentini berasizlar.\n",
    "### uni ichida esa myList elementlarini yig'indisini print qilasizlar.\n",
    "###\n",
    "###   Listning elementlar yig'indisi = 32"
   ],
   "metadata": {
    "collapsed": false,
    "pycharm": {
     "name": "#%% md\n"
    }
   }
  },
  {
   "cell_type": "code",
   "execution_count": 9,
   "outputs": [
    {
     "name": "stdout",
     "output_type": "stream",
     "text": [
      "Listning elementlari yig'indisi = 55\n"
     ]
    }
   ],
   "source": [
    "def list_sum(myList):\n",
    "    sum = 0\n",
    "    for i in myList:\n",
    "        sum += i\n",
    "    print(f\"Listning elementlari yig'indisi = {sum}\")\n",
    "\n",
    "\n",
    "list_sum([1, 2, 3, 4, 5, 6, 7, 8, 9, 10])"
   ],
   "metadata": {
    "collapsed": false,
    "pycharm": {
     "name": "#%%\n"
    }
   }
  },
  {
   "cell_type": "markdown",
   "source": [
    "### 5. daraja(a, b) - bu funksiya a ni b darajasini print qilsin."
   ],
   "metadata": {
    "collapsed": false,
    "pycharm": {
     "name": "#%% md\n"
    }
   }
  },
  {
   "cell_type": "code",
   "execution_count": 10,
   "outputs": [
    {
     "name": "stdout",
     "output_type": "stream",
     "text": [
      "2 ning 5 chi darajasi 32\n"
     ]
    }
   ],
   "source": [
    "def daraja(a, b):\n",
    "    print(f\"{a} ning {b} chi darajasi {a ** b}\")\n",
    "\n",
    "\n",
    "daraja(2, 5)"
   ],
   "metadata": {
    "collapsed": false,
    "pycharm": {
     "name": "#%%\n"
    }
   }
  },
  {
   "cell_type": "code",
   "execution_count": null,
   "outputs": [],
   "source": [],
   "metadata": {
    "collapsed": false,
    "pycharm": {
     "name": "#%%\n"
    }
   }
  },
  {
   "cell_type": "code",
   "execution_count": null,
   "outputs": [],
   "source": [],
   "metadata": {
    "collapsed": false,
    "pycharm": {
     "name": "#%%\n"
    }
   }
  },
  {
   "cell_type": "code",
   "execution_count": null,
   "outputs": [],
   "source": [],
   "metadata": {
    "collapsed": false,
    "pycharm": {
     "name": "#%%\n"
    }
   }
  },
  {
   "cell_type": "code",
   "execution_count": null,
   "outputs": [],
   "source": [],
   "metadata": {
    "collapsed": false,
    "pycharm": {
     "name": "#%%\n"
    }
   }
  },
  {
   "cell_type": "code",
   "execution_count": null,
   "outputs": [],
   "source": [],
   "metadata": {
    "collapsed": false,
    "pycharm": {
     "name": "#%%\n"
    }
   }
  }
 ],
 "metadata": {
  "kernelspec": {
   "display_name": "Python 3",
   "language": "python",
   "name": "python3"
  },
  "language_info": {
   "codemirror_mode": {
    "name": "ipython",
    "version": 2
   },
   "file_extension": ".py",
   "mimetype": "text/x-python",
   "name": "python",
   "nbconvert_exporter": "python",
   "pygments_lexer": "ipython2",
   "version": "2.7.6"
  }
 },
 "nbformat": 4,
 "nbformat_minor": 0
}