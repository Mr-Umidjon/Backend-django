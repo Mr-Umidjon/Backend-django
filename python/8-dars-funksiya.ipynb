{
 "cells": [
  {
   "cell_type": "markdown",
   "metadata": {
    "collapsed": true,
    "pycharm": {
     "name": "#%% md\n"
    }
   },
   "source": [
    "### 1. \"user_data\" funksiyasini elon qilasizlar. Funksiyani 3 ta parametri bor (first_name, last_name, age). Input orqalik ism, familiya va yoshni kiritamiz. va bu bu qiymatlarni \"user_data\" funksiyasini chaqirib argumentlariga beramiz. \"user_data\" funksiyasi bu (first_name, last_name, age) o'zgaruvchilarni qiymatini\n",
    "### Ism: Alisher\n",
    "###  Familiya: Olimov\n",
    "### Yosh: 27\n",
    "### ko'rinishiga print qilib bersin."
   ]
  },
  {
   "cell_type": "code",
   "execution_count": 2,
   "outputs": [
    {
     "name": "stdout",
     "output_type": "stream",
     "text": [
      "\n",
      "    Ism: Alisher\n",
      "    Familiya: Olimov\n",
      "    Yosh: 27\n",
      "    \n"
     ]
    }
   ],
   "source": [
    "def user_data(first_name, last_name, age):\n",
    "    print(f\"\"\"\n",
    "    Ism: {first_name}\n",
    "    Familiya: {last_name}\n",
    "    Yosh: {age}\n",
    "    \"\"\")\n",
    "\n",
    "\n",
    "user_data('Alisher', \"Olimov\", 27)"
   ],
   "metadata": {
    "collapsed": false,
    "pycharm": {
     "name": "#%%\n"
    }
   }
  },
  {
   "cell_type": "markdown",
   "source": [
    "### 2. \"find_max\" funksiyasini elon qilasizlar. Funksiyani 3 ta parametri bor (a, b, c). Input orqalik 3 ta son kiritamiz. va bu sonlarni \"find_max\" funksiyasi chaqirib argumentlariga beramiz. \"find_max\" funksiyasini bu (a, b, c) o'zgaruvchilardan eng kattasini topib print qiladi.\n"
   ],
   "metadata": {
    "collapsed": false,
    "pycharm": {
     "name": "#%% md\n"
    }
   }
  },
  {
   "cell_type": "code",
   "execution_count": 4,
   "outputs": [
    {
     "name": "stdout",
     "output_type": "stream",
     "text": [
      "Max: 5\n"
     ]
    }
   ],
   "source": [
    "def find_max(a, b, c):\n",
    "    max = a\n",
    "    if max < b:\n",
    "        max = b\n",
    "    if max < c:\n",
    "        max = c\n",
    "    print(f\"Max: {max}\")\n",
    "\n",
    "\n",
    "find_max(1, 3, 5)"
   ],
   "metadata": {
    "collapsed": false,
    "pycharm": {
     "name": "#%%\n"
    }
   }
  },
  {
   "cell_type": "markdown",
   "source": [
    "### 3. \"find_letter_count\" funksiyasini elon qilasizlar. Funksiyani 2 ta parametri bor (word, letter). Input orqalik so'z kiritamiz, keyin esa shu so'zda qidirmoqchi bolgan so'zimizni kiritamiz. va bu qiymatlarni \"find_letter_count\" funksiyasini chaqirib argumentlariga beramiz.\"find_letter_count\" funksiyasi bu (word, letter) o'garuvchilardan foydalanib\"word\" da \"letter\" nechi martda qatnashganini print qilsin.\n",
    "\n",
    "  ### \"Programing\" so'zida \"r\" dan 2 ta."
   ],
   "metadata": {
    "collapsed": false,
    "pycharm": {
     "name": "#%% md\n"
    }
   }
  },
  {
   "cell_type": "code",
   "execution_count": 6,
   "outputs": [
    {
     "name": "stdout",
     "output_type": "stream",
     "text": [
      "Programming so'zida r dan 2 ta bor.\n"
     ]
    }
   ],
   "source": [
    "def find_letter_count(word, letter):\n",
    "    count = 0\n",
    "    for i in word:\n",
    "        if i == letter:\n",
    "            count += 1\n",
    "    print(f\"{word} so'zida {letter} dan {count} ta bor.\")\n",
    "\n",
    "\n",
    "find_letter_count('Programming', 'r')"
   ],
   "metadata": {
    "collapsed": false,
    "pycharm": {
     "name": "#%%\n"
    }
   }
  },
  {
   "cell_type": "markdown",
   "source": [
    "### 4. \"list_sum\" funksiyasi elon qilasizlar.\n",
    "### Funksiyani 1 ta pametrni bor (myList).\n",
    "### \"myList\" funksiyasini chaqirib unda argumentini berasizlar.\n",
    "### uni ichida esa myList elementlarini yig'indisini print qilasizlar.\n",
    "###\n",
    "###   Listning elementlar yig'indisi = 32"
   ],
   "metadata": {
    "collapsed": false,
    "pycharm": {
     "name": "#%% md\n"
    }
   }
  },
  {
   "cell_type": "code",
   "execution_count": 9,
   "outputs": [
    {
     "name": "stdout",
     "output_type": "stream",
     "text": [
      "Listning elementlari yig'indisi = 55\n"
     ]
    }
   ],
   "source": [
    "def list_sum(myList):\n",
    "    sum = 0\n",
    "    for i in myList:\n",
    "        sum += i\n",
    "    print(f\"Listning elementlari yig'indisi = {sum}\")\n",
    "\n",
    "\n",
    "list_sum([1, 2, 3, 4, 5, 6, 7, 8, 9, 10])"
   ],
   "metadata": {
    "collapsed": false,
    "pycharm": {
     "name": "#%%\n"
    }
   }
  },
  {
   "cell_type": "markdown",
   "source": [
    "### 5. daraja(a, b) - bu funksiya a ni b darajasini print qilsin."
   ],
   "metadata": {
    "collapsed": false,
    "pycharm": {
     "name": "#%% md\n"
    }
   }
  },
  {
   "cell_type": "code",
   "execution_count": 10,
   "outputs": [
    {
     "name": "stdout",
     "output_type": "stream",
     "text": [
      "2 ning 5 chi darajasi 32\n"
     ]
    }
   ],
   "source": [
    "def daraja(a, b):\n",
    "    print(f\"{a} ning {b} chi darajasi {a ** b}\")\n",
    "\n",
    "\n",
    "daraja(2, 5)"
   ],
   "metadata": {
    "collapsed": false,
    "pycharm": {
     "name": "#%%\n"
    }
   }
  },
  {
   "cell_type": "markdown",
   "source": [
    "### 6. daraja4(a, b, c, d) - bu funksiya a ni b, c va d chi darajasini print qilsin."
   ],
   "metadata": {
    "collapsed": false,
    "pycharm": {
     "name": "#%% md\n"
    }
   }
  },
  {
   "cell_type": "code",
   "execution_count": 11,
   "outputs": [
    {
     "name": "stdout",
     "output_type": "stream",
     "text": [
      "\n",
      "    2 ning 3 chi darajasi 8\n",
      "    2 ning 4 chi darajasi 16\n",
      "    2 ning 5 chi darajasi 32\n",
      "\n"
     ]
    }
   ],
   "source": [
    "def daraja4(a, b, c, d):\n",
    "    print(f\"\"\"\n",
    "    {a} ning {b} chi darajasi {a ** b}\n",
    "    {a} ning {c} chi darajasi {a ** c}\n",
    "    {a} ning {d} chi darajasi {a ** d}\n",
    "\"\"\")\n",
    "\n",
    "\n",
    "daraja4(2, 3, 4, 5)"
   ],
   "metadata": {
    "collapsed": false,
    "pycharm": {
     "name": "#%%\n"
    }
   }
  },
  {
   "cell_type": "markdown",
   "source": [
    "### 7. digit_count_and_sum(word) - bu funksiya \"word\" ni ichidagi raqamni aniqlab ularni yig'indisini va nechtaligini print qilsin."
   ],
   "metadata": {
    "collapsed": false,
    "pycharm": {
     "name": "#%% md\n"
    }
   }
  },
  {
   "cell_type": "code",
   "execution_count": 14,
   "outputs": [
    {
     "name": "stdout",
     "output_type": "stream",
     "text": [
      "\n",
      "    \"salom 123\" matnini ichida 3 taraqam bor\n",
      "    ularning yig'indisi 6 ga teng\n",
      "\n"
     ]
    }
   ],
   "source": [
    "def digit_count_and_sum(word):\n",
    "    count = 0\n",
    "    sum = 0\n",
    "    for i in word:\n",
    "        if i.isdigit():\n",
    "            count += 1\n",
    "            sum += int(i)\n",
    "    print(f\"\"\"\n",
    "    \"{word}\" matnini ichida {count} ta raqam bor\n",
    "    ularning yig'indisi {sum} ga teng\n",
    "\"\"\")\n",
    "\n",
    "\n",
    "digit_count_and_sum('salom 123')"
   ],
   "metadata": {
    "collapsed": false,
    "pycharm": {
     "name": "#%%\n"
    }
   }
  },
  {
   "cell_type": "markdown",
   "source": [
    "### 8. add_right(a, b) - bu funksiya a sonini o'ng tomoniga b sonini birlashtirib qoysin va print qilsin."
   ],
   "metadata": {
    "collapsed": false,
    "pycharm": {
     "name": "#%% md\n"
    }
   }
  },
  {
   "cell_type": "code",
   "execution_count": 19,
   "outputs": [
    {
     "name": "stdout",
     "output_type": "stream",
     "text": [
      "123\n"
     ]
    }
   ],
   "source": [
    "def add_right(a, b):\n",
    "    # a += b\n",
    "    print(a, b, sep='')\n",
    "\n",
    "\n",
    "add_right(1, 23)"
   ],
   "metadata": {
    "collapsed": false,
    "pycharm": {
     "name": "#%%\n"
    }
   }
  },
  {
   "cell_type": "markdown",
   "source": [
    "### 9. add_left(a, b) - bu funksiya a sonini chap tomoniga b sonini birlashtirib qoysin va print qilsin."
   ],
   "metadata": {
    "collapsed": false,
    "pycharm": {
     "name": "#%% md\n"
    }
   }
  },
  {
   "cell_type": "code",
   "execution_count": 20,
   "outputs": [
    {
     "name": "stdout",
     "output_type": "stream",
     "text": [
      "231\n"
     ]
    }
   ],
   "source": [
    "def add_left(a, b):\n",
    "    # a = b + a\n",
    "    print(b, a, sep='')\n",
    "\n",
    "\n",
    "add_left(1, 23)"
   ],
   "metadata": {
    "collapsed": false,
    "pycharm": {
     "name": "#%%\n"
    }
   }
  },
  {
   "cell_type": "markdown",
   "source": [
    "### 10. work_with_list(a) - bu funksiya a listdan eng kichik sonni topib list elementlariga ko'paytirib qiymatini o'zgartiradi va listni print qilsin."
   ],
   "metadata": {
    "collapsed": false,
    "pycharm": {
     "name": "#%% md\n"
    }
   }
  },
  {
   "cell_type": "code",
   "execution_count": 21,
   "outputs": [
    {
     "name": "stdout",
     "output_type": "stream",
     "text": [
      "[24, 6, 8, 4, 12]\n"
     ]
    }
   ],
   "source": [
    "def work_with_list(a):\n",
    "    Min = a[0]\n",
    "    for i in a[1:]:\n",
    "        if Min > i:\n",
    "            Min = i\n",
    "    for k in range(len(a)):\n",
    "        a[k] *= Min\n",
    "    print(a)\n",
    "\n",
    "\n",
    "work_with_list([12, 3, 4, 2, 6])"
   ],
   "metadata": {
    "collapsed": false,
    "pycharm": {
     "name": "#%%\n"
    }
   }
  },
  {
   "cell_type": "markdown",
   "source": [
    "### 11. big_sales(sales) - sales bu dictionary unga\n",
    "###\n",
    "### {\n",
    "###   \"yanvar\": 12000,\n",
    "###   \"mart\": 6000,\n",
    "###   \"aprel\": 15000,\n",
    "###   \"sentabr\": 9000,\n",
    "###   \"dekabr\": 10000,\n",
    "### }\n",
    "###\n",
    "### qaysi oyda eng ko'p sotiv bolgan."
   ],
   "metadata": {
    "collapsed": false,
    "pycharm": {
     "name": "#%% md\n"
    }
   }
  },
  {
   "cell_type": "code",
   "execution_count": 37,
   "outputs": [
    {
     "name": "stdout",
     "output_type": "stream",
     "text": [
      "\n",
      "    aprel: 15000\n",
      "    \n"
     ]
    }
   ],
   "source": [
    "def bid_sales(sales):\n",
    "    keys = list(sales.keys())\n",
    "    values = list(sales.values())\n",
    "\n",
    "    indx = values.index(max(values))\n",
    "\n",
    "    print(f\"\"\"\n",
    "    {keys[indx]}: {values[indx]}\n",
    "    \"\"\")\n",
    "\n",
    "\n",
    "sales1 = {\n",
    "    \"yanvar\": 12000,\n",
    "    \"mart\": 6000,\n",
    "    \"aprel\": 15000,\n",
    "    \"sentabr\": 9000,\n",
    "    \"dekabr\": 10000,\n",
    "}\n",
    "\n",
    "bid_sales(sales1)"
   ],
   "metadata": {
    "collapsed": false,
    "pycharm": {
     "name": "#%%\n"
    }
   }
  },
  {
   "cell_type": "markdown",
   "source": [
    "### 12. min_max(numbers, max_num, min_num) max_num numbers ichigagi eng katta sonmi yoki yoqmi shuni aniqlang min_num numbers ichigagi eng kichik sonmi yoki yoqmi shuni aniqlang"
   ],
   "metadata": {
    "collapsed": false,
    "pycharm": {
     "name": "#%% md\n"
    }
   }
  },
  {
   "cell_type": "code",
   "execution_count": 41,
   "outputs": [
    {
     "name": "stdout",
     "output_type": "stream",
     "text": [
      "\n",
      "56 soni [1, 3, 2, 34, 34, 54, 32, 56, 4] listidagi eng katta element: True\n",
      "2 soni [1, 3, 2, 34, 34, 54, 32, 56, 4] listidagi eng kichik element: False\n",
      "\n"
     ]
    }
   ],
   "source": [
    "def min_max(numbers, max_num, min_num):\n",
    "    print(f\"\"\"\n",
    "{max_num} soni {numbers} listidagi eng katta element: {max(numbers) == max_num}\n",
    "{min_num} soni {numbers} listidagi eng kichik element: {min(numbers) == min_num}\n",
    "\"\"\")\n",
    "\n",
    "\n",
    "min_max([1, 3, 2, 34, 34, 54, 32, 56, 4], 56, 2)"
   ],
   "metadata": {
    "collapsed": false,
    "pycharm": {
     "name": "#%%\n"
    }
   }
  },
  {
   "cell_type": "markdown",
   "source": [
    "### 13. expensiveProduct(products) - funksiyadagi products - list.\n",
    "### Unga [\n",
    "###   {\n",
    "###     \"name\": \"Iphone X\",\n",
    "###     \"price\": 600\n",
    "###   },\n",
    "###   {\n",
    "###     \"name\": \"Iphone 12\",\n",
    "###     \"price\": 1500\n",
    "###   },\n",
    "###   {\n",
    "###     \"name\": \"Samsung Note 9\",\n",
    "###     \"price\": 800\n",
    "###   },\n",
    "###   {\n",
    "###     \"name\": \"Samsung S10\",\n",
    "###     \"price\": 1100\n",
    "###   },\n",
    "### ] shunaqa qiymat beriladi.\n",
    "### Eng qimmat telefon nomini print qilib bersin bu funksiya."
   ],
   "metadata": {
    "collapsed": false,
    "pycharm": {
     "name": "#%% md\n"
    }
   }
  },
  {
   "cell_type": "code",
   "execution_count": 49,
   "outputs": [
    {
     "name": "stdout",
     "output_type": "stream",
     "text": [
      "Eng qimmat telefon: Iphone 12\n"
     ]
    }
   ],
   "source": [
    "def expensiveProduct(products):\n",
    "    max = products[0]\n",
    "\n",
    "    for i in products[1:]:\n",
    "        if max['price'] < i['price']:\n",
    "            max = i\n",
    "    print(f\"Eng qimmat telefon: {max['name']}\")\n",
    "\n",
    "\n",
    "data = [\n",
    "    {\n",
    "        \"name\": \"Iphone X\",\n",
    "        \"price\": 600\n",
    "    },\n",
    "    {\n",
    "        \"name\": \"Iphone 12\",\n",
    "        \"price\": 1500\n",
    "    },\n",
    "    {\n",
    "        \"name\": \"Samsung Note 9\",\n",
    "        \"price\": 800\n",
    "    },\n",
    "    {\n",
    "        \"name\": \"Samsung S10\",\n",
    "        \"price\": 1100\n",
    "    },\n",
    "]\n",
    "\n",
    "expensiveProduct(data)"
   ],
   "metadata": {
    "collapsed": false,
    "pycharm": {
     "name": "#%%\n"
    }
   }
  },
  {
   "cell_type": "markdown",
   "source": [
    "### 1. sortList(myList, kamayish) degan funksiya yozilar funksiyani ikkita parametri bor.\n",
    "### Birinchisi List tipidagi \"myList\" deb nomlangan o'zgaruvchi.\n",
    "### Ikkinchisi bool tipidagi \"kamayish\" deb nomlangan o'zgaruvchi yaratasizlar.\n",
    "### \"myList\" ni \"kamayish\" ni qiymatiga qarab sortirovkac qilasizlar.\n",
    "### sort() dan foydalanmang!"
   ],
   "metadata": {
    "collapsed": false,
    "pycharm": {
     "name": "#%% md\n"
    }
   }
  },
  {
   "cell_type": "code",
   "execution_count": 53,
   "outputs": [
    {
     "name": "stdout",
     "output_type": "stream",
     "text": [
      "[34, 34, 32, 32, 32, 23, 12, 4, 2, 1]\n",
      "[1, 2, 4, 12, 23, 32, 32, 32, 34, 34]\n"
     ]
    }
   ],
   "source": [
    "def sortList(myList, kamayish):\n",
    "    n = len(myList)\n",
    "    for i in range(n - 1):\n",
    "        for j in range(n - i - 1):\n",
    "            if kamayish:\n",
    "                if myList[j] < myList[j + 1]:\n",
    "                    myList[j], myList[j + 1] = myList[j + 1], myList[j]\n",
    "            else:\n",
    "                if myList[j] > myList[j + 1]:\n",
    "                    myList[j], myList[j + 1] = myList[j + 1], myList[j]\n",
    "    print(myList)\n",
    "\n",
    "\n",
    "sortList([1, 32, 32, 12, 34, 2, 34, 23, 4, 32], True)\n",
    "sortList([1, 32, 32, 12, 34, 2, 34, 23, 4, 32], False)"
   ],
   "metadata": {
    "collapsed": false,
    "pycharm": {
     "name": "#%%\n"
    }
   }
  },
  {
   "cell_type": "markdown",
   "source": [
    "### 2. find_max(myList) myList dan eng katta sonni topadi va return qiladi. max() funksiyasidan foydalanmang!\n",
    "### find_min(myList) myList dan eng kichik sonni topadiva return qiladi. min() funksiyasidan foydalanmang!\n",
    "### power_max_min() funksiyasida find_max(myList) qaytargan qiymatni maxElem ga bering\n",
    "### find_min(myList) qaytargan qiymatni minElem ga bering va maxElem ni minElem dagi darajasini return qiladi.\n",
    "### power_max_min qaytarga qiymatni print qililar."
   ],
   "metadata": {
    "collapsed": false,
    "pycharm": {
     "name": "#%% md\n"
    }
   }
  },
  {
   "cell_type": "code",
   "execution_count": 61,
   "outputs": [
    {
     "name": "stdout",
     "output_type": "stream",
     "text": [
      "\n",
      "34 ning 2 chi darajsi 1156 ga teng.\n",
      "\n"
     ]
    }
   ],
   "source": [
    "def find_max(myList):\n",
    "    Max = myList[0]\n",
    "    for i in myList[1:]:\n",
    "        if Max < i:\n",
    "            Max = i\n",
    "    return Max\n",
    "\n",
    "\n",
    "# print(find_max([1, 32, 32, 34, 341]))\n",
    "\n",
    "def find_min(myList):\n",
    "    Min = myList[0]\n",
    "    for i in myList[1:]:\n",
    "        if Min > i:\n",
    "            Min = i\n",
    "    return Min\n",
    "\n",
    "\n",
    "def power_max_min(maxElem, minElem):\n",
    "    return maxElem ** minElem\n",
    "\n",
    "\n",
    "# print(find_min([154, 32, 32, 34, 341]))\n",
    "maxElem = find_max([15, 2, 32, 34, 34])\n",
    "minElem = find_min([15, 2, 32, 34, 34])\n",
    "\n",
    "print(f\"\"\"\n",
    "{maxElem} ning {minElem} chi darajsi {power_max_min(maxElem, minElem)} ga teng.\n",
    "\"\"\")"
   ],
   "metadata": {
    "collapsed": false,
    "pycharm": {
     "name": "#%%\n"
    }
   }
  },
  {
   "cell_type": "markdown",
   "source": [
    "### 3.  find_last_region(regions) funksiyasini yozilar.\n",
    "### find_last_region(regions) chaqirib unga regions argumentiga\n",
    "### [[\"Toshkent\",\"Buxoro\"],[\"Buxoro\",\"Samarqand\"],[\"Andijon\",\n",
    "### \"Farg'ona\"][\"Samarqand\",\"Andijon\"]] qiymatni beramiz.\n",
    "### \"find_last_region\" funksiyasi esa bizga oxirgi manzilni topib return qilsin.\n",
    "### Keyin shu qiymatni \"find_last_region\" chaqirib bolingandan keyin print qililar.\n",
    "###\n",
    "### argument: [[\"Toshkent\", \"Buxoro\"], [\"Farg'ona\", \"Jizzax\"], [\"Jizzax\", \"Navoiy\"], [\"Andijon\", \"Farg'ona\"], [\"Samarqand\", \"Andijon\"], [\"Buxoro\", \"Samarqand\"]]\n",
    "### output: \"Navoiy\""
   ],
   "metadata": {
    "collapsed": false,
    "pycharm": {
     "name": "#%% md\n"
    }
   }
  },
  {
   "cell_type": "code",
   "execution_count": 65,
   "outputs": [
    {
     "name": "stdout",
     "output_type": "stream",
     "text": [
      "Navoiy\n"
     ]
    }
   ],
   "source": [
    "def find_last_region(regions):\n",
    "    res = []\n",
    "    for i in regions:\n",
    "        res += i\n",
    "    for j in res:\n",
    "        if res.count(j) == 1 and j != 'Toshkent':\n",
    "            return j\n",
    "\n",
    "\n",
    "regions = [[\"Toshkent\", \"Buxoro\"],\n",
    "           [\"Farg'ona\", \"Jizzax\"],\n",
    "           [\"Jizzax\", \"Navoiy\"],\n",
    "           [\"Andijon\", \"Farg'ona\"],\n",
    "           [\"Samarqand\", \"Andijon\"],\n",
    "           [\"Buxoro\", \"Samarqand\"]]\n",
    "\n",
    "print(find_last_region(regions))"
   ],
   "metadata": {
    "collapsed": false,
    "pycharm": {
     "name": "#%%\n"
    }
   }
  },
  {
   "cell_type": "markdown",
   "source": [
    "### 4. findOdd(myList) - bu funksiya tog' sonlarni topib yangi listga qo'shib shu listni return qilib beradi."
   ],
   "metadata": {
    "collapsed": false,
    "pycharm": {
     "name": "#%% md\n"
    }
   }
  },
  {
   "cell_type": "code",
   "execution_count": 68,
   "outputs": [
    {
     "name": "stdout",
     "output_type": "stream",
     "text": [
      "[1, 23, 33, 31]\n"
     ]
    }
   ],
   "source": [
    "def findOdd(myList):\n",
    "    res = []\n",
    "    for i in myList:\n",
    "        if i % 2 == 0:\n",
    "            continue\n",
    "        res.append(i)\n",
    "    return res\n",
    "\n",
    "\n",
    "print(findOdd([1, 23, 34, 33, 56, 31]))"
   ],
   "metadata": {
    "collapsed": false,
    "pycharm": {
     "name": "#%%\n"
    }
   }
  },
  {
   "cell_type": "markdown",
   "source": [
    "### 5. findEven(myList) - bu funksiya juft sonlarni topib yangi listga qo'shib shu listni return qilib beradi."
   ],
   "metadata": {
    "collapsed": false,
    "pycharm": {
     "name": "#%% md\n"
    }
   }
  },
  {
   "cell_type": "code",
   "execution_count": 69,
   "outputs": [
    {
     "name": "stdout",
     "output_type": "stream",
     "text": [
      "[34, 56]\n"
     ]
    }
   ],
   "source": [
    "def findEven(myList):\n",
    "    res = []\n",
    "    for i in myList:\n",
    "        if i % 2 == 1:\n",
    "            continue\n",
    "        res.append(i)\n",
    "    return res\n",
    "\n",
    "\n",
    "print(findEven([1, 23, 34, 33, 56, 31]))"
   ],
   "metadata": {
    "collapsed": false,
    "pycharm": {
     "name": "#%%\n"
    }
   }
  },
  {
   "cell_type": "markdown",
   "source": [
    "### 6. 4 va 5 ga funksiyalar qaytargan qiymatlardan foydalangan xolda. odd_vs_even(oddList, evenList) funksiya yaratasizlar va oddList elementlar yig'indisi va evenList elementlar yig'indisi qaysi biri katta ekanligini print qilib bersin."
   ],
   "metadata": {
    "collapsed": false,
    "pycharm": {
     "name": "#%% md\n"
    }
   }
  },
  {
   "cell_type": "code",
   "execution_count": 70,
   "outputs": [
    {
     "name": "stdout",
     "output_type": "stream",
     "text": [
      "Juft sonlar yig'indisi katta\n"
     ]
    }
   ],
   "source": [
    "def odd_vs_even(oddList, evenList):\n",
    "    sumOdd = sum(oddList)\n",
    "    sumEven = sum(evenList)\n",
    "    if sumEven == sumOdd:\n",
    "        print(\"Ikkasini yig'indisi teng: \")\n",
    "    elif sumOdd > sumEven:\n",
    "        print(\"Toq sonlar yig'indisi katta\")\n",
    "    else:\n",
    "        print(\"Juft sonlar yig'indisi katta\")\n",
    "\n",
    "\n",
    "oddList = findOdd([1, 23, 34, 33, 56, 31])\n",
    "evenList = findEven([1, 23, 34, 33, 56, 31])\n",
    "\n",
    "odd_vs_even(oddList, evenList)"
   ],
   "metadata": {
    "collapsed": false,
    "pycharm": {
     "name": "#%%\n"
    }
   }
  },
  {
   "cell_type": "markdown",
   "source": [
    "### 7. phones = [] global list bor\n",
    "### add_phones(brand, model, size, color) - bu funksiya phones listiga dictionary korinishida\n",
    "### {\n",
    "###   \"brand\": \"Samsung\",\n",
    "###   \"model\": \"A51\",\n",
    "###   \"size\": 128,\n",
    "###   \"color\": \"grey\"\n",
    "### }\n",
    "### element qoshadi.\n",
    "### get_phones() - bu funksiya phones listidagi hamma elementlarini chiroyli ko'rinishda print qiladi.\n",
    "### dasturni ishga tushirsak \"add\" yoki \"list\" kamandasini kiriting desing.\n",
    "### \"add\" kiritsak\n",
    "### brand, model, size keyin colorni kiritishni soraydi. hammasi kiritilgandan keyin \"add_phones\" qiymatlarni bersin.\n",
    "### \"list\" desa \"get_phones\" funksiyasi ishga tushsin."
   ],
   "metadata": {
    "collapsed": false,
    "pycharm": {
     "name": "#%% md\n"
    }
   }
  },
  {
   "cell_type": "code",
   "execution_count": 77,
   "outputs": [
    {
     "name": "stdout",
     "output_type": "stream",
     "text": [
      "\n",
      "        \"brand\": Samsung,\n",
      "        \"model\": S 20,\n",
      "        \"size\": 128,\n",
      "        \"color\": black\n",
      "\n"
     ]
    }
   ],
   "source": [
    "phones = []\n",
    "\n",
    "\n",
    "def add_phones(brand, model, size, color):\n",
    "    elem = {\n",
    "        \"brand\": brand,\n",
    "        \"model\": model,\n",
    "        \"size\": size,\n",
    "        \"color\": color\n",
    "    }\n",
    "    phones.append(elem)\n",
    "\n",
    "\n",
    "def get_phones():\n",
    "    for i in phones:\n",
    "        print(f\"\"\"\n",
    "        \"brand\": {i['brand']},\n",
    "        \"model\": {i['model']},\n",
    "        \"size\": {i['size']},\n",
    "        \"color\": {i['color']}\n",
    "\"\"\")\n",
    "\n",
    "\n",
    "def main():\n",
    "    command = input('\"add\" yoki \"list\" kamandasini kiriting: ')\n",
    "    if command == 'add':\n",
    "        brand = input(\"Brand: \")\n",
    "        model = input(\"Model: \")\n",
    "        size = input(\"Size: \")\n",
    "        color = input(\"Color: \")\n",
    "        add_phones(brand, model, size, color)\n",
    "    elif command == 'list':\n",
    "        get_phones()\n",
    "\n",
    "\n",
    "main()\n",
    "main()\n"
   ],
   "metadata": {
    "collapsed": false,
    "pycharm": {
     "name": "#%%\n"
    }
   }
  }
 ],
 "metadata": {
  "kernelspec": {
   "display_name": "Python 3",
   "language": "python",
   "name": "python3"
  },
  "language_info": {
   "codemirror_mode": {
    "name": "ipython",
    "version": 2
   },
   "file_extension": ".py",
   "mimetype": "text/x-python",
   "name": "python",
   "nbconvert_exporter": "python",
   "pygments_lexer": "ipython2",
   "version": "2.7.6"
  }
 },
 "nbformat": 4,
 "nbformat_minor": 0
}