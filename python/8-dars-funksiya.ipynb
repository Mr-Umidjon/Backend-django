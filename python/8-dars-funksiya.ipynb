{
 "cells": [
  {
   "cell_type": "markdown",
   "metadata": {
    "collapsed": true,
    "pycharm": {
     "name": "#%% md\n"
    }
   },
   "source": [
    "### 1. \"user_data\" funksiyasini elon qilasizlar. Funksiyani 3 ta parametri bor (first_name, last_name, age). Input orqalik ism, familiya va yoshni kiritamiz. va bu bu qiymatlarni \"user_data\" funksiyasini chaqirib argumentlariga beramiz. \"user_data\" funksiyasi bu (first_name, last_name, age) o'zgaruvchilarni qiymatini\n",
    "### Ism: Alisher\n",
    "###  Familiya: Olimov\n",
    "### Yosh: 27\n",
    "### ko'rinishiga print qilib bersin."
   ]
  },
  {
   "cell_type": "code",
   "execution_count": 2,
   "outputs": [
    {
     "name": "stdout",
     "output_type": "stream",
     "text": [
      "\n",
      "    Ism: Alisher\n",
      "    Familiya: Olimov\n",
      "    Yosh: 27\n",
      "    \n"
     ]
    }
   ],
   "source": [
    "def user_data(first_name, last_name, age):\n",
    "    print(f\"\"\"\n",
    "    Ism: {first_name}\n",
    "    Familiya: {last_name}\n",
    "    Yosh: {age}\n",
    "    \"\"\")\n",
    "\n",
    "\n",
    "user_data('Alisher', \"Olimov\", 27)"
   ],
   "metadata": {
    "collapsed": false,
    "pycharm": {
     "name": "#%%\n"
    }
   }
  },
  {
   "cell_type": "markdown",
   "source": [
    "### 2. \"find_max\" funksiyasini elon qilasizlar. Funksiyani 3 ta parametri bor (a, b, c). Input orqalik 3 ta son kiritamiz. va bu sonlarni \"find_max\" funksiyasi chaqirib argumentlariga beramiz. \"find_max\" funksiyasini bu (a, b, c) o'zgaruvchilardan eng kattasini topib print qiladi.\n",
    "  ### \n",
    "  ### Eng katta son - A = 10\n",
    "  ### yoki\n",
    "  ### Eng katta son - A va B = 10\n",
    "  ### yoki\n",
    "  ### Eng katta son - A va B va C = 10"
   ],
   "metadata": {
    "collapsed": false,
    "pycharm": {
     "name": "#%% md\n"
    }
   }
  },
  {
   "cell_type": "code",
   "execution_count": null,
   "outputs": [],
   "source": [],
   "metadata": {
    "collapsed": false,
    "pycharm": {
     "name": "#%%\n"
    }
   }
  }
 ],
 "metadata": {
  "kernelspec": {
   "display_name": "Python 3",
   "language": "python",
   "name": "python3"
  },
  "language_info": {
   "codemirror_mode": {
    "name": "ipython",
    "version": 2
   },
   "file_extension": ".py",
   "mimetype": "text/x-python",
   "name": "python",
   "nbconvert_exporter": "python",
   "pygments_lexer": "ipython2",
   "version": "2.7.6"
  }
 },
 "nbformat": 4,
 "nbformat_minor": 0
}